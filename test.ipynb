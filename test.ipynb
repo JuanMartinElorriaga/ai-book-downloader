{
 "cells": [
  {
   "attachments": {},
   "cell_type": "markdown",
   "metadata": {},
   "source": [
    "### Libgen bulk downloader\n",
    "- https://github.com/harrison-broadbent/libgen-api"
   ]
  },
  {
   "attachments": {},
   "cell_type": "markdown",
   "metadata": {},
   "source": [
    "Este es un programa para automatizar la busqueda y descarga de libros de relevancia,\n",
    "a partir de las sugerencias dadas por AI y obtencion de contenidos en Libgen.\n",
    "El codigo contiene 3 partes:\n",
    "1. Consulta a AI: conexion a Bard API y extraccion de respuesta como diccionario de python\n",
    "2. Obtencion de links: conexion a Libgen API para obtencion de links de descarga\n",
    "3. Descarga de archivos: uso de terminal para nombrar archivos y consolidar resultados en una carpeta\n",
    "\n",
    "INPUTS DE USUARIO\n",
    "\n",
    "1. limite de libros\n",
    "2. consulta a Bard\n",
    "\n",
    "OUTPUT\n",
    "\n",
    "El resultado final es una carpeta en el directorio local con los contenidos descargados\n",
    "\n",
    "TODO LIST\n",
    "\n",
    "El resultado final es un directorio cuyo nombre es el tema de busqueda, y el contenido sean los archivos descargados\n",
    "1. Usar bard api para generar una consulta \n",
    "2. Limpiar la respuesta para generar un diccionario de recomendaciones\n",
    "3. Usar como input el punto 2 para realizar las busquedas de metadata en libgen\n",
    "4. Usar la metadata del punto 3 para generar los links de descarga\n",
    "5. Descargar a traves de los links usando la terminal\n",
    "6. guardar resultados en una carpeta local\n",
    "    - armar dos subcarpetas: una para pdf y otra para epub o mobi\n",
    "\n",
    "ADICIONALES\n",
    "7. Usar la libreria click para armar todo como un CLI\n",
    "8. Agregar holistic approach para buscar tanto autor como titulo de libro\n"
   ]
  },
  {
   "cell_type": "code",
   "execution_count": 16,
   "metadata": {},
   "outputs": [
    {
     "name": "stdout",
     "output_type": "stream",
     "text": [
      "c:\\Users\\juanm\\miniconda3\\Lib\\site-packages\\libgen_api\\__init__.py\n"
     ]
    }
   ],
   "source": [
    "import bardapi\n",
    "from libgen_api import LibgenSearch\n",
    "import subprocess\n",
    "import re\n",
    "import libgen_api\n",
    "print(libgen_api.__file__)\n",
    "from bardapi import Bard"
   ]
  },
  {
   "attachments": {},
   "cell_type": "markdown",
   "metadata": {},
   "source": [
    "### BARD"
   ]
  },
  {
   "cell_type": "code",
   "execution_count": 21,
   "metadata": {},
   "outputs": [],
   "source": [
    "# USER INPUTS\n",
    "topic = 'Macroeconomics'\n",
    "limit = 5"
   ]
  },
  {
   "cell_type": "code",
   "execution_count": 20,
   "metadata": {},
   "outputs": [],
   "source": [
    "bard_token = 'aAju5-oGJDHaMYWKImrm9Wef-IV4bs0deuWjfMag2PcornrmNGttVNyB1kkVNk9bVBqhXA.'"
   ]
  },
  {
   "cell_type": "code",
   "execution_count": null,
   "metadata": {},
   "outputs": [],
   "source": [
    "#bard = Bard(token_from_browser=True)\n",
    "#res = bard.get_answer(\"Do you like cookies?\")\n",
    "#print(res)"
   ]
  },
  {
   "cell_type": "code",
   "execution_count": 22,
   "metadata": {},
   "outputs": [],
   "source": [
    "input_text = f\"Create a list of the best {limit} books related to {topic}. Return your response as a python dictionary, with the author name as the key and book title as a value. Your answer has to contain ONLY the python dictionary!\"\n",
    "#bard_response = bard.get_answer(input_text)['content']\n",
    "response = bardapi.core.Bard(bard_token).get_answer(input_text)"
   ]
  },
  {
   "cell_type": "code",
   "execution_count": 23,
   "metadata": {},
   "outputs": [
    {
     "data": {
      "text/plain": [
       "'\\n{\\n    \"Mankiw\": \"Principles of Economics\",\\n    \"Romer\": \"Advanced Macroeconomics\",\\n    \"Krugman\": \"Macroeconomics\",\\n    \"Blanchard\": \"Macroeconomics\",\\n    \"Stiglitz\": \"The Roaring Nineties\"\\n}\\n'"
      ]
     },
     "execution_count": 23,
     "metadata": {},
     "output_type": "execute_result"
    }
   ],
   "source": [
    "response['code']"
   ]
  },
  {
   "cell_type": "code",
   "execution_count": 24,
   "metadata": {},
   "outputs": [
    {
     "name": "stdout",
     "output_type": "stream",
     "text": [
      "{'Mankiw': 'Principles of Economics', 'Romer': 'Advanced Macroeconomics', 'Krugman': 'Macroeconomics', 'Blanchard': 'Macroeconomics', 'Stiglitz': 'The Roaring Nineties'}\n"
     ]
    }
   ],
   "source": [
    "# Extract dict from response string\n",
    "pattern = r\"\\{(.*?)\\}\"\n",
    "match = re.search(pattern, response['code'], re.DOTALL)\n",
    "if match:\n",
    "    extracted_content = match.group(1)\n",
    "    final_str = \"{\" + str(extracted_content) + \"}\"\n",
    "    books_dict = eval(final_str)\n",
    "    print(books_dict)"
   ]
  },
  {
   "attachments": {},
   "cell_type": "markdown",
   "metadata": {},
   "source": [
    "### LIBGEN"
   ]
  },
  {
   "cell_type": "code",
   "execution_count": 25,
   "metadata": {},
   "outputs": [],
   "source": [
    "dummy_data = {'Mankiw': 'Principles of Economics', 'Romer': 'Advanced Macroeconomics', 'Krugman': 'Macroeconomics', 'Blanchard': 'Macroeconomics', 'Stiglitz': 'The Roaring Nineties'}"
   ]
  },
  {
   "cell_type": "code",
   "execution_count": 3,
   "metadata": {},
   "outputs": [],
   "source": [
    "col_names = [\n",
    "        \"ID\",\n",
    "        \"Author\",\n",
    "        \"Title\",\n",
    "        \"Publisher\",\n",
    "        \"Year\",\n",
    "        \"Pages\",\n",
    "        \"Language\",\n",
    "        \"Size\",\n",
    "        \"Extension\",\n",
    "        \"Mirror_1\",\n",
    "        \"Mirror_2\",\n",
    "        \"Mirror_3\",\n",
    "        \"Mirror_4\",\n",
    "        \"Mirror_5\",\n",
    "        \"Edit\",\n",
    "    ]"
   ]
  },
  {
   "cell_type": "code",
   "execution_count": 26,
   "metadata": {},
   "outputs": [],
   "source": [
    "libgen = LibgenSearch()"
   ]
  },
  {
   "cell_type": "code",
   "execution_count": 30,
   "metadata": {},
   "outputs": [
    {
     "name": "stdout",
     "output_type": "stream",
     "text": [
      "Mankiw Principles of Economics\n",
      "Romer Advanced Macroeconomics\n",
      "Krugman Macroeconomics\n",
      "Blanchard Macroeconomics\n",
      "Stiglitz The Roaring Nineties\n"
     ]
    }
   ],
   "source": [
    "for k,v in books_dict.items():\n",
    "    search_prompt = k + ' ' +  v\n",
    "    print(search_prompt)"
   ]
  },
  {
   "cell_type": "code",
   "execution_count": 31,
   "metadata": {},
   "outputs": [
    {
     "name": "stdout",
     "output_type": "stream",
     "text": [
      "[{'ID': '26907', 'Author': 'Mankiw N.G.', 'Title': 'Ten principles of economics', 'Publisher': '', 'Year': '2004', 'Pages': '508', 'Language': 'English', 'Size': '4 Mb', 'Extension': 'pdf', 'Mirror_1': 'http://library.lol/main/3C867F5BBE7352C53DDA722D138D1820', 'Mirror_2': 'http://libgen.lc/ads.php?md5=3C867F5BBE7352C53DDA722D138D1820', 'Mirror_3': 'https://library.bz/main/edit/3C867F5BBE7352C53DDA722D138D1820'}, {'ID': '79071', 'Author': 'Mankiw', 'Title': 'Principles of Economics HQ', 'Publisher': '', 'Year': '', 'Pages': '793', 'Language': 'English', 'Size': '6 Mb', 'Extension': 'pdf', 'Mirror_1': 'http://library.lol/main/91557FF34BEE7291415C884C6F1E75A0', 'Mirror_2': 'http://libgen.lc/ads.php?md5=91557FF34BEE7291415C884C6F1E75A0', 'Mirror_3': 'https://library.bz/main/edit/91557FF34BEE7291415C884C6F1E75A0'}, {'ID': '79074', 'Author': 'Mankiw', 'Title': 'Principles of Economics', 'Publisher': '', 'Year': '2003', 'Pages': '791', 'Language': 'English', 'Size': '6 Mb', 'Extension': 'pdf', 'Mirror_1': 'http://library.lol/main/E3F096277A659048C34B0FD8ABC29E43', 'Mirror_2': 'http://libgen.lc/ads.php?md5=E3F096277A659048C34B0FD8ABC29E43', 'Mirror_3': 'https://library.bz/main/edit/E3F096277A659048C34B0FD8ABC29E43'}, {'ID': '111999', 'Author': 'N. Gregory(N. Gregory Mankiw) Mankiw', 'Title': 'Principles of economics', 'Publisher': 'South-Western College Pub', 'Year': '2001', 'Pages': '790', 'Language': 'English', 'Size': '6 Mb', 'Extension': 'pdf', 'Mirror_1': 'http://library.lol/main/FB57931563ADAE7339978D22F81127B9', 'Mirror_2': 'http://libgen.lc/ads.php?md5=FB57931563ADAE7339978D22F81127B9', 'Mirror_3': 'https://library.bz/main/edit/FB57931563ADAE7339978D22F81127B9'}, {'ID': '176077', 'Author': 'N. Gregory Mankiw', 'Title': 'Principles of Economics', 'Publisher': 'Thomson/South-Western', 'Year': '2004', 'Pages': '790', 'Language': 'English', 'Size': '8 Mb', 'Extension': 'pdf', 'Mirror_1': 'http://library.lol/main/AB72291EDBA753114219D1473BEF1B57', 'Mirror_2': 'http://libgen.lc/ads.php?md5=AB72291EDBA753114219D1473BEF1B57', 'Mirror_3': 'https://library.bz/main/edit/AB72291EDBA753114219D1473BEF1B57'}, {'ID': '291927', 'Author': 'N. Gregory Mankiw', 'Title': 'Principles of economics', 'Publisher': 'South-Western College Pub', 'Year': '2001', 'Pages': '791', 'Language': 'English', 'Size': '6 Mb', 'Extension': 'pdf', 'Mirror_1': 'http://library.lol/main/637421E191BC8C6CB8A0E68D90BCBE1C', 'Mirror_2': 'http://libgen.lc/ads.php?md5=637421E191BC8C6CB8A0E68D90BCBE1C', 'Mirror_3': 'https://library.bz/main/edit/637421E191BC8C6CB8A0E68D90BCBE1C'}, {'ID': '486972', 'Author': 'N. Gregory Mankiw', 'Title': 'Principles of Economics, 2nd Edition', 'Publisher': 'Harcourt College Publishers', 'Year': '2001', 'Pages': '790', 'Language': 'English', 'Size': '9 Mb', 'Extension': 'pdf', 'Mirror_1': 'http://library.lol/main/C6F4E60787FF83598A137D58E728F271', 'Mirror_2': 'http://libgen.lc/ads.php?md5=C6F4E60787FF83598A137D58E728F271', 'Mirror_3': 'https://library.bz/main/edit/C6F4E60787FF83598A137D58E728F271'}, {'ID': '757724', 'Author': 'N. Gregory Mankiw', 'Title': 'Principles of Economics (6th edition)', 'Publisher': 'South-Western College Pub', 'Year': '2012', 'Pages': '890', 'Language': 'English', 'Size': '69 Mb', 'Extension': 'pdf', 'Mirror_1': 'http://library.lol/main/8DB6F06FCB2A4E5977D71184B0B7DE54', 'Mirror_2': 'http://libgen.lc/ads.php?md5=8DB6F06FCB2A4E5977D71184B0B7DE54', 'Mirror_3': 'https://library.bz/main/edit/8DB6F06FCB2A4E5977D71184B0B7DE54'}, {'ID': '1057436', 'Author': 'N. Gregory Mankiw', 'Title': 'Principles of Economics', 'Publisher': 'Cengage Learning', 'Year': '2008', 'Pages': '904[790]', 'Language': 'English', 'Size': '9 Mb', 'Extension': 'pdf', 'Mirror_1': 'http://library.lol/main/96D24103226B19F2BAA864499421F7D8', 'Mirror_2': 'http://libgen.lc/ads.php?md5=96D24103226B19F2BAA864499421F7D8', 'Mirror_3': 'https://library.bz/main/edit/96D24103226B19F2BAA864499421F7D8'}, {'ID': '1380405', 'Author': 'N. Gregory Mankiw', 'Title': 'Principles of Economics, 7th Edition', 'Publisher': 'Cengage Learning', 'Year': '2014', 'Pages': '887', 'Language': 'English', 'Size': '15 Mb', 'Extension': 'pdf', 'Mirror_1': 'http://library.lol/main/00191F3BB830351DD200DD064297F87C', 'Mirror_2': 'http://libgen.lc/ads.php?md5=00191F3BB830351DD200DD064297F87C', 'Mirror_3': 'https://library.bz/main/edit/00191F3BB830351DD200DD064297F87C'}, {'ID': '2100923', 'Author': 'N. Gregory Mankiw', 'Title': 'Principles of Economics', 'Publisher': 'South-Western College Pub', 'Year': '2017', 'Pages': '836[866]', 'Language': 'English', 'Size': '28 Mb', 'Extension': 'pdf', 'Mirror_1': 'http://library.lol/main/BEEBB41B7172B2B73E94D0EE3DA2A6B7', 'Mirror_2': 'http://libgen.lc/ads.php?md5=BEEBB41B7172B2B73E94D0EE3DA2A6B7', 'Mirror_3': 'https://library.bz/main/edit/BEEBB41B7172B2B73E94D0EE3DA2A6B7'}, {'ID': '2565348', 'Author': 'N. Gregory Mankiw', 'Title': 'Principles Of Economics', 'Publisher': 'Cengage Learning', 'Year': '2021', 'Pages': '855', 'Language': 'English', 'Size': '29 Mb', 'Extension': 'pdf', 'Mirror_1': 'http://library.lol/main/E4F408FE98ABD6329394D2C9C9DE877F', 'Mirror_2': 'http://libgen.lc/ads.php?md5=E4F408FE98ABD6329394D2C9C9DE877F', 'Mirror_3': 'https://library.bz/main/edit/E4F408FE98ABD6329394D2C9C9DE877F'}, {'ID': '2566789', 'Author': 'Nicholas Gregory Mankiw', 'Title': 'Principles of Economics', 'Publisher': '', 'Year': '2021', 'Pages': '[855]', 'Language': 'English', 'Size': '26 Mb', 'Extension': 'pdf', 'Mirror_1': 'http://library.lol/main/8D7614E9DF12D3B36ECB6D3712EC1ACE', 'Mirror_2': 'http://libgen.lc/ads.php?md5=8D7614E9DF12D3B36ECB6D3712EC1ACE', 'Mirror_3': 'https://library.bz/main/edit/8D7614E9DF12D3B36ECB6D3712EC1ACE'}, {'ID': '2719443', 'Author': 'Mankiw,N. Gregory', 'Title': 'Principles of economics', 'Publisher': 'Cengage Learning', 'Year': '2015', 'Pages': 'xxxii, 847 pages : color illustrations ; 26 cm[886]', 'Language': 'English', 'Size': '36 Mb', 'Extension': 'pdf', 'Mirror_1': 'http://library.lol/main/523ACA842B744AF61FF5C75B494E0DC3', 'Mirror_2': 'http://libgen.lc/ads.php?md5=523ACA842B744AF61FF5C75B494E0DC3', 'Mirror_3': 'https://library.bz/main/edit/523ACA842B744AF61FF5C75B494E0DC3'}, {'ID': '2786591', 'Author': 'Mankiw,Nicholas Gregory', 'Title': 'Principles of Economics', 'Publisher': 'Cengage', 'Year': '2021', 'Pages': 'xxxi, 816 Seiten : Illustrationen[855]', 'Language': 'English', 'Size': '26 Mb', 'Extension': 'pdf', 'Mirror_1': 'http://library.lol/main/F4A302808D65A91A59AC35CF39C14A26', 'Mirror_2': 'http://libgen.lc/ads.php?md5=F4A302808D65A91A59AC35CF39C14A26', 'Mirror_3': 'https://library.bz/main/edit/F4A302808D65A91A59AC35CF39C14A26'}, {'ID': '2943608', 'Author': 'N. Gregory Mankiw', 'Title': \"Principles of Microeconomics (Mankiw's Principles of Economics) 8th Edition\", 'Publisher': 'Cenage Learning', 'Year': '2018', 'Pages': '526', 'Language': 'English', 'Size': '20 Mb', 'Extension': 'pdf', 'Mirror_1': 'http://library.lol/main/E4381DF1D175F03F47E8CC0AEE610476', 'Mirror_2': 'http://libgen.lc/ads.php?md5=E4381DF1D175F03F47E8CC0AEE610476', 'Mirror_3': 'https://library.bz/main/edit/E4381DF1D175F03F47E8CC0AEE610476'}]\n",
      "[{'ID': '79088', 'Author': 'Romer', 'Title': 'Advanced Macroeconomics', 'Publisher': '', 'Year': '', 'Pages': '550', 'Language': 'English', 'Size': '26 Mb', 'Extension': 'pdf', 'Mirror_1': 'http://library.lol/main/9CEC5187CF244D48F3EDAEF22CB97792', 'Mirror_2': 'http://libgen.lc/ads.php?md5=9CEC5187CF244D48F3EDAEF22CB97792', 'Mirror_3': 'https://library.bz/main/edit/9CEC5187CF244D48F3EDAEF22CB97792'}, {'ID': '79089', 'Author': 'Romer', 'Title': 'Advanced Macroeconomics Solutions', 'Publisher': '', 'Year': '', 'Pages': '266', 'Language': 'English', 'Size': '17 Mb', 'Extension': 'pdf', 'Mirror_1': 'http://library.lol/main/3E3B1EF369A1CD4226F9298D0B42E296', 'Mirror_2': 'http://libgen.lc/ads.php?md5=3E3B1EF369A1CD4226F9298D0B42E296', 'Mirror_3': 'https://library.bz/main/edit/3E3B1EF369A1CD4226F9298D0B42E296'}, {'ID': '210651', 'Author': 'D. Romer', 'Title': 'Advanced Macroeconomics', 'Publisher': 'McGraw-Hill/Irwin', 'Year': '2005', 'Pages': '676', 'Language': 'English', 'Size': '37 Mb', 'Extension': 'pdf', 'Mirror_1': 'http://library.lol/main/DDF2839B431347DB14F8C9BA04063BFC', 'Mirror_2': 'http://libgen.lc/ads.php?md5=DDF2839B431347DB14F8C9BA04063BFC', 'Mirror_3': 'https://library.bz/main/edit/DDF2839B431347DB14F8C9BA04063BFC'}, {'ID': '233947', 'Author': 'David Romer', 'Title': 'Advanced Macroeconomics', 'Publisher': 'McGraw-Hill', 'Year': '1996', 'Pages': '550', 'Language': 'English', 'Size': '26 Mb', 'Extension': 'pdf', 'Mirror_1': 'http://library.lol/main/22552BD94A65ED686AEB2E7650C2AAF2', 'Mirror_2': 'http://libgen.lc/ads.php?md5=22552BD94A65ED686AEB2E7650C2AAF2', 'Mirror_3': 'https://library.bz/main/edit/22552BD94A65ED686AEB2E7650C2AAF2'}, {'ID': '1201532', 'Author': 'David Romer', 'Title': 'Advanced Macroeconomics, 4th edition', 'Publisher': 'Business And Economics', 'Year': '2012', 'Pages': '736[738]', 'Language': 'English', 'Size': '4 Mb', 'Extension': 'pdf', 'Mirror_1': 'http://library.lol/main/B81821BD16A42211F919748C26CD0774', 'Mirror_2': 'http://libgen.lc/ads.php?md5=B81821BD16A42211F919748C26CD0774', 'Mirror_3': 'https://library.bz/main/edit/B81821BD16A42211F919748C26CD0774'}, {'ID': '1681477', 'Author': 'David Romer', 'Title': 'Advanced Macroeconomics Solution Manual', 'Publisher': '', 'Year': '0', 'Pages': '290', 'Language': 'English', 'Size': '4 Mb', 'Extension': 'pdf', 'Mirror_1': 'http://library.lol/main/EF711001A1415DBF7EA334CBA67AAC36', 'Mirror_2': 'http://libgen.lc/ads.php?md5=EF711001A1415DBF7EA334CBA67AAC36', 'Mirror_3': 'https://library.bz/main/edit/EF711001A1415DBF7EA334CBA67AAC36'}, {'ID': '1930068', 'Author': 'Romer D.', 'Title': 'Solutions Manual to accompany Advanced Macroeconomics', 'Publisher': '', 'Year': '', 'Pages': '[295]', 'Language': 'English', 'Size': '10 Mb', 'Extension': 'pdf', 'Mirror_1': 'http://library.lol/main/9BE891452B8754907D4425C15D3BB321', 'Mirror_2': 'http://libgen.lc/ads.php?md5=9BE891452B8754907D4425C15D3BB321', 'Mirror_3': 'https://library.bz/main/edit/9BE891452B8754907D4425C15D3BB321'}, {'ID': '2454262', 'Author': 'David Romer', 'Title': 'Advanced Macroeconomics', 'Publisher': 'McGraw-Hill Education', 'Year': '2018', 'Pages': '800[801]', 'Language': 'English', 'Size': '6 Mb', 'Extension': 'pdf', 'Mirror_1': 'http://library.lol/main/3B9AF2793837DF6767E985633BE2CC37', 'Mirror_2': 'http://libgen.lc/ads.php?md5=3B9AF2793837DF6767E985633BE2CC37', 'Mirror_3': 'https://library.bz/main/edit/3B9AF2793837DF6767E985633BE2CC37'}]\n",
      "[{'ID': '747980', 'Author': 'Paul Krugman,Robin Wells', 'Title': 'Macroeconomics', 'Publisher': 'Worth Publishers', 'Year': '2005', 'Pages': '576', 'Language': 'English', 'Size': '5 Mb', 'Extension': 'pdf', 'Mirror_1': 'http://library.lol/main/65A5D926EDCB93827ADC7FD86543E44C', 'Mirror_2': 'http://libgen.lc/ads.php?md5=65A5D926EDCB93827ADC7FD86543E44C', 'Mirror_3': 'https://library.bz/main/edit/65A5D926EDCB93827ADC7FD86543E44C'}, {'ID': '760070', 'Author': 'Margaret Ray,David A. Anderson', 'Title': \"Krugman's Macroeconomics for AP*\", 'Publisher': 'Worth Publishers', 'Year': '2010', 'Pages': '529', 'Language': 'English', 'Size': '16 Mb', 'Extension': 'pdf', 'Mirror_1': 'http://library.lol/main/9705E177326CD064E2D773BA22A99603', 'Mirror_2': 'http://libgen.lc/ads.php?md5=9705E177326CD064E2D773BA22A99603', 'Mirror_3': 'https://library.bz/main/edit/9705E177326CD064E2D773BA22A99603'}, {'ID': '799204', 'Author': 'Paul Krugman,Robin Wells (main authors),Margaret Ray,David Anderson (auxiliary authors)', 'Title': 'Macroeconomics in modules', 'Publisher': 'Worth Pub', 'Year': '2011', 'Pages': '476[572]', 'Language': 'English', 'Size': '108 Mb', 'Extension': 'pdf', 'Mirror_1': 'http://library.lol/main/680772EF02D88E68EE03F27889C8D7D3', 'Mirror_2': 'http://libgen.lc/ads.php?md5=680772EF02D88E68EE03F27889C8D7D3', 'Mirror_3': 'https://library.bz/main/edit/680772EF02D88E68EE03F27889C8D7D3'}, {'ID': '1391483', 'Author': 'Paul Krugman,Robin Wells,Margaret Ray', 'Title': 'Macroeconomics in Modules', 'Publisher': 'Worth Publishers', 'Year': '2011', 'Pages': '572', 'Language': 'English', 'Size': '54 Mb', 'Extension': 'pdf', 'Mirror_1': 'http://library.lol/main/AE6F50BE088CC968C69977704C1DFF2B', 'Mirror_2': 'http://libgen.lc/ads.php?md5=AE6F50BE088CC968C69977704C1DFF2B', 'Mirror_3': 'https://library.bz/main/edit/AE6F50BE088CC968C69977704C1DFF2B'}, {'ID': '1561129', 'Author': 'Paul Krugman,Robin Wells', 'Title': 'Macroeconomics', 'Publisher': 'Worth Publishers', 'Year': '2015', 'Pages': '595[690]', 'Language': 'English', 'Size': '43 Mb', 'Extension': 'pdf', 'Mirror_1': 'http://library.lol/main/61C7687297B59473904F8B9D176FBBC4', 'Mirror_2': 'http://libgen.lc/ads.php?md5=61C7687297B59473904F8B9D176FBBC4', 'Mirror_3': 'https://library.bz/main/edit/61C7687297B59473904F8B9D176FBBC4'}, {'ID': '1617701', 'Author': 'Paul Krugman,Robin Wells', 'Title': 'Macroeconomics in modules', 'Publisher': 'Worth Publishers', 'Year': '2014', 'Pages': '', 'Language': 'English', 'Size': '92 Mb', 'Extension': 'pdf', 'Mirror_1': 'http://library.lol/main/3DD7108D915255C6448BD9C202CC2442', 'Mirror_2': 'http://libgen.lc/ads.php?md5=3DD7108D915255C6448BD9C202CC2442', 'Mirror_3': 'https://library.bz/main/edit/3DD7108D915255C6448BD9C202CC2442'}, {'ID': '2093924', 'Author': 'Paul Krugman,Robin Wells', 'Title': 'Macroeconomics in Modules', 'Publisher': 'Worth Publishers', 'Year': '2014', 'Pages': '510[623]', 'Language': 'English', 'Size': '92 Mb', 'Extension': 'pdf', 'Mirror_1': 'http://library.lol/main/734E8B3F86811075A4169D92C22E1B20', 'Mirror_2': 'http://libgen.lc/ads.php?md5=734E8B3F86811075A4169D92C22E1B20', 'Mirror_3': 'https://library.bz/main/edit/734E8B3F86811075A4169D92C22E1B20'}, {'ID': '2320561', 'Author': 'Paul Krugman,Robin Wells', 'Title': 'Macroeconomics in Modules', 'Publisher': 'Worth Publishers', 'Year': '2014', 'Pages': '623', 'Language': 'English', 'Size': '92 Mb', 'Extension': 'pdf', 'Mirror_1': 'http://library.lol/main/01AF4614E57B7A20BAB37CAFCE17B384', 'Mirror_2': 'http://libgen.lc/ads.php?md5=01AF4614E57B7A20BAB37CAFCE17B384', 'Mirror_3': 'https://library.bz/main/edit/01AF4614E57B7A20BAB37CAFCE17B384'}, {'ID': '2473230', 'Author': 'Paul Krugman', 'Title': 'Solutions Manual for Macroeconomics 4th Edition by Krugman', 'Publisher': '', 'Year': '0', 'Pages': '399', 'Language': 'English', 'Size': '7 Mb', 'Extension': 'pdf', 'Mirror_1': 'http://library.lol/main/D7CFF64680ACDFF6BC5DAB1D117B044A', 'Mirror_2': 'http://libgen.lc/ads.php?md5=D7CFF64680ACDFF6BC5DAB1D117B044A', 'Mirror_3': 'https://library.bz/main/edit/D7CFF64680ACDFF6BC5DAB1D117B044A'}, {'ID': '2536541', 'Author': 'Paul Krugman,Robin Wells,Iris Au,Jack Parkinson', 'Title': 'Macroeconomics: Canadian Edition', 'Publisher': 'Worth Publishers', 'Year': '2018', 'Pages': '688[1284]', 'Language': 'English', 'Size': '34 Mb', 'Extension': 'pdf', 'Mirror_1': 'http://library.lol/main/335D396D403D6D24B7CE8DC281AD34B4', 'Mirror_2': 'http://libgen.lc/ads.php?md5=335D396D403D6D24B7CE8DC281AD34B4', 'Mirror_3': 'https://library.bz/main/edit/335D396D403D6D24B7CE8DC281AD34B4'}, {'ID': '2711785', 'Author': 'Krugman, Paul R.;Wells, Robin', 'Title': 'Macroeconomics in modules', 'Publisher': 'Worth Publishers', 'Year': '2014', 'Pages': '511 pages : color illustrations ; 28 cm[623]', 'Language': 'English', 'Size': '92 Mb', 'Extension': 'pdf', 'Mirror_1': 'http://library.lol/main/E67BE0A6E01CCD683EA2692EF1B21173', 'Mirror_2': 'http://libgen.lc/ads.php?md5=E67BE0A6E01CCD683EA2692EF1B21173', 'Mirror_3': 'https://library.bz/main/edit/E67BE0A6E01CCD683EA2692EF1B21173'}]\n",
      "[{'ID': '353788', 'Author': 'Olivier Jean Blanchard,Stanley Fischer', 'Title': 'Lectures on Macroeconomics', 'Publisher': 'The MIT Press', 'Year': '1989', 'Pages': '660', 'Language': 'English', 'Size': '26 Mb', 'Extension': 'pdf', 'Mirror_1': 'http://library.lol/main/0D1475BEABA02AFD9695A76B4A06BAD0', 'Mirror_2': 'http://libgen.lc/ads.php?md5=0D1475BEABA02AFD9695A76B4A06BAD0', 'Mirror_3': 'https://library.bz/main/edit/0D1475BEABA02AFD9695A76B4A06BAD0'}, {'ID': '413774', 'Author': 'Olivier Blanchard', 'Title': 'Macroeconomics (Prentice Hall series in economics)', 'Publisher': 'Pearson US Imports & PHIPEs', 'Year': '2002', 'Pages': '326', 'Language': 'English', 'Size': '20 Mb', 'Extension': 'pdf', 'Mirror_1': 'http://library.lol/main/76CA43F7BC6A85A7DE2A1D2253E1B1C7', 'Mirror_2': 'http://libgen.lc/ads.php?md5=76CA43F7BC6A85A7DE2A1D2253E1B1C7', 'Mirror_3': 'https://library.bz/main/edit/76CA43F7BC6A85A7DE2A1D2253E1B1C7'}, {'ID': '546609', 'Author': 'Olivier Jean Blanchard,Stanley Fischer', 'Title': 'Lectures on Macroeconomics', 'Publisher': 'The MIT Press', 'Year': '1989', 'Pages': '660', 'Language': 'English', 'Size': '21 Mb', 'Extension': 'pdf', 'Mirror_1': 'http://library.lol/main/3825D14153C0692F4626FAE0CDC1664B', 'Mirror_2': 'http://libgen.lc/ads.php?md5=3825D14153C0692F4626FAE0CDC1664B', 'Mirror_3': 'https://library.bz/main/edit/3825D14153C0692F4626FAE0CDC1664B'}, {'ID': '661959', 'Author': 'Olivier Jean Blanchard,Stanley Fischer', 'Title': 'Lectures on Macroeconomics', 'Publisher': 'The MIT Press', 'Year': '1989', 'Pages': '660', 'Language': 'English', 'Size': '26 Mb', 'Extension': 'pdf', 'Mirror_1': 'http://library.lol/main/EA664BF249135CE5784011BDA372E26C', 'Mirror_2': 'http://libgen.lc/ads.php?md5=EA664BF249135CE5784011BDA372E26C', 'Mirror_3': 'https://library.bz/main/edit/EA664BF249135CE5784011BDA372E26C'}, {'ID': '706961', 'Author': 'Olivier Jean Blanchard,Stanley Fischer', 'Title': 'Lectures on Macroeconomics.MsuCity', 'Publisher': 'The MIT Press', 'Year': '1989', 'Pages': '664[659]', 'Language': 'English', 'Size': '26 Mb', 'Extension': 'pdf', 'Mirror_1': 'http://library.lol/main/CF7A947CBDF82EA88F905F92E7EB23A4', 'Mirror_2': 'http://libgen.lc/ads.php?md5=CF7A947CBDF82EA88F905F92E7EB23A4', 'Mirror_3': 'https://library.bz/main/edit/CF7A947CBDF82EA88F905F92E7EB23A4'}, {'ID': '743256', 'Author': 'Olivier J. Blanchard,Stanley Fischer', 'Title': 'Lectures on Macroeconomics', 'Publisher': 'The MIT Press', 'Year': '1989', 'Pages': '660', 'Language': 'English', 'Size': '26 Mb', 'Extension': 'pdf', 'Mirror_1': 'http://library.lol/main/52D0F5260AE69FDA70A65C2B1BDC0F4D', 'Mirror_2': 'http://libgen.lc/ads.php?md5=52D0F5260AE69FDA70A65C2B1BDC0F4D', 'Mirror_3': 'https://library.bz/main/edit/52D0F5260AE69FDA70A65C2B1BDC0F4D'}, {'ID': '749187', 'Author': 'Olivier Blanchard,Alessia Amighini,Francesco Giavazzi', 'Title': 'Macroeconomics: A European Perspective', 'Publisher': 'Prentice Hall', 'Year': '2010', 'Pages': '616[617]', 'Language': 'English', 'Size': '11 Mb', 'Extension': 'pdf', 'Mirror_1': 'http://library.lol/main/6A81FDE97151740466E6BE5CF9B1EC82', 'Mirror_2': 'http://libgen.lc/ads.php?md5=6A81FDE97151740466E6BE5CF9B1EC82', 'Mirror_3': 'https://library.bz/main/edit/6A81FDE97151740466E6BE5CF9B1EC82'}, {'ID': '1125830', 'Author': 'Olivier Blanchard,David R. Johnson', 'Title': 'Macroeconomics', 'Publisher': 'Pearson', 'Year': '2012', 'Pages': '624[622]', 'Language': 'English', 'Size': '8 Mb', 'Extension': 'pdf', 'Mirror_1': 'http://library.lol/main/1F9B55608A2900C26E2CE2480401177E', 'Mirror_2': 'http://libgen.lc/ads.php?md5=1F9B55608A2900C26E2CE2480401177E', 'Mirror_3': 'https://library.bz/main/edit/1F9B55608A2900C26E2CE2480401177E'}, {'ID': '1161747', 'Author': 'Olivier Blanchard,David R. Johnson', 'Title': 'Macroeconomics', 'Publisher': 'Pearson', 'Year': '2012', 'Pages': '624[620]', 'Language': 'English', 'Size': '5 Mb', 'Extension': 'pdf', 'Mirror_1': 'http://library.lol/main/8319BC1DCD8F8CAC91B9F55B9B29C6F8', 'Mirror_2': 'http://libgen.lc/ads.php?md5=8319BC1DCD8F8CAC91B9F55B9B29C6F8', 'Mirror_3': 'https://library.bz/main/edit/8319BC1DCD8F8CAC91B9F55B9B29C6F8'}, {'ID': '1541157', 'Author': 'Blanchard Olivier', 'Title': 'Macroeconomics', 'Publisher': 'Pearson', 'Year': '2017', 'Pages': '572', 'Language': 'English', 'Size': '11 Mb', 'Extension': 'pdf', 'Mirror_1': 'http://library.lol/main/B2DA6A742A88A67888DED2067D4974E7', 'Mirror_2': 'http://libgen.lc/ads.php?md5=B2DA6A742A88A67888DED2067D4974E7', 'Mirror_3': 'https://library.bz/main/edit/B2DA6A742A88A67888DED2067D4974E7'}, {'ID': '1680030', 'Author': 'Blanchard,Olivier', 'Title': 'Macroeconomics', 'Publisher': 'Pearson', 'Year': '2016', 'Pages': '0[581]', 'Language': 'English', 'Size': '8 Mb', 'Extension': 'pdf', 'Mirror_1': 'http://library.lol/main/B37CE5D8DF4CC2E6130B67CEBF16177D', 'Mirror_2': 'http://libgen.lc/ads.php?md5=B37CE5D8DF4CC2E6130B67CEBF16177D', 'Mirror_3': 'https://library.bz/main/edit/B37CE5D8DF4CC2E6130B67CEBF16177D'}, {'ID': '1692484', 'Author': 'Olivier Blanchard', 'Title': 'Macroeconomics', 'Publisher': 'Pearson', 'Year': '2017', 'Pages': '0[580]', 'Language': 'English', 'Size': '10 Mb', 'Extension': 'pdf', 'Mirror_1': 'http://library.lol/main/444FFCA9B1A0359F2306D54338FABD40', 'Mirror_2': 'http://libgen.lc/ads.php?md5=444FFCA9B1A0359F2306D54338FABD40', 'Mirror_3': 'https://library.bz/main/edit/444FFCA9B1A0359F2306D54338FABD40'}, {'ID': '1733452', 'Author': 'Blanchard O.', 'Title': 'What Do We Know About Macroeconomics that Fisher and Wicksell Did Not?', 'Publisher': '', 'Year': '', 'Pages': '[49]', 'Language': 'English', 'Size': '3 Mb', 'Extension': 'pdf', 'Mirror_1': 'http://library.lol/main/012B843B349064789248BAEB25D51C00', 'Mirror_2': 'http://libgen.lc/ads.php?md5=012B843B349064789248BAEB25D51C00', 'Mirror_3': 'https://library.bz/main/edit/012B843B349064789248BAEB25D51C00'}, {'ID': '2224718', 'Author': 'Olivier Blanchard,Alessia Amighini,Francesco Giavazzi', 'Title': 'Macroeconomics: A European Perspective', 'Publisher': 'Pearson', 'Year': '2017', 'Pages': '592[593]', 'Language': 'English', 'Size': '13 Mb', 'Extension': 'pdf', 'Mirror_1': 'http://library.lol/main/7EE8C3380B111E23817510D3A3188D80', 'Mirror_2': 'http://libgen.lc/ads.php?md5=7EE8C3380B111E23817510D3A3188D80', 'Mirror_3': 'https://library.bz/main/edit/7EE8C3380B111E23817510D3A3188D80'}, {'ID': '2242587', 'Author': 'Olivier Blanchard,Jeffrey Sheen', 'Title': 'Macroeconomics, Australasian Edition', 'Publisher': 'Pearson Australia', 'Year': '2013', 'Pages': '0[665]', 'Language': 'English', 'Size': '24 Mb', 'Extension': 'pdf', 'Mirror_1': 'http://library.lol/main/31BE298F7D633CEF0F4D5C7CFBBBAD2B', 'Mirror_2': 'http://libgen.lc/ads.php?md5=31BE298F7D633CEF0F4D5C7CFBBBAD2B', 'Mirror_3': 'https://library.bz/main/edit/31BE298F7D633CEF0F4D5C7CFBBBAD2B'}, {'ID': '2264415', 'Author': 'Blanchard, Olivier J.;Johnson, David R.', 'Title': 'Macroeconomics', 'Publisher': 'Pearson Canada', 'Year': '2015', 'Pages': '609', 'Language': 'English', 'Size': '6 Mb', 'Extension': 'pdf', 'Mirror_1': 'http://library.lol/main/8D805C05BA28F8B45372C26EA0966590', 'Mirror_2': 'http://libgen.lc/ads.php?md5=8D805C05BA28F8B45372C26EA0966590', 'Mirror_3': 'https://library.bz/main/edit/8D805C05BA28F8B45372C26EA0966590'}, {'ID': '2840527', 'Author': 'Blanchard,Olivier J', 'Title': 'Macroeconomics, Global Edition', 'Publisher': 'Pearson Education Limited', 'Year': '2017', 'Pages': '576[593]', 'Language': 'English', 'Size': '14 Mb', 'Extension': 'pdf', 'Mirror_1': 'http://library.lol/main/110CE138A1B42C26A1A5BA5720433C40', 'Mirror_2': 'http://libgen.lc/ads.php?md5=110CE138A1B42C26A1A5BA5720433C40', 'Mirror_3': 'https://library.bz/main/edit/110CE138A1B42C26A1A5BA5720433C40'}, {'ID': '2848824', 'Author': 'Blanchard Olivier', 'Title': 'Macroeconomics', 'Publisher': '', 'Year': '2017', 'Pages': '[581]', 'Language': 'English', 'Size': '8 Mb', 'Extension': 'pdf', 'Mirror_1': 'http://library.lol/main/388545F5E520261147D484B2B8B48BE0', 'Mirror_2': 'http://libgen.lc/ads.php?md5=388545F5E520261147D484B2B8B48BE0', 'Mirror_3': 'https://library.bz/main/edit/388545F5E520261147D484B2B8B48BE0'}, {'ID': '2848825', 'Author': '', 'Title': 'Solutions to end of chapter problems in the essential reading textbook Macroeconomics by O. Blanchard 7th - 2017', 'Publisher': '', 'Year': '', 'Pages': '[74]', 'Language': 'English', 'Size': '569 Kb', 'Extension': 'pdf', 'Mirror_1': 'http://library.lol/main/41649C8A54BEC6BFD39CCA192EF699A9', 'Mirror_2': 'http://libgen.lc/ads.php?md5=41649C8A54BEC6BFD39CCA192EF699A9', 'Mirror_3': 'https://library.bz/main/edit/41649C8A54BEC6BFD39CCA192EF699A9'}, {'ID': '2851033', 'Author': 'Blanchard, Olivier J.;Johnson, David R', 'Title': 'Macroeconomics: global and Southern African perspectives', 'Publisher': 'Pearson', 'Year': '2016;2014', 'Pages': 'xviii, 579 [45] pages; illustrations; 24 cm[581]', 'Language': 'English', 'Size': '14 Mb', 'Extension': 'pdf', 'Mirror_1': 'http://library.lol/main/B224A3AF5ABBD2B8BD8353E7D4743AB5', 'Mirror_2': 'http://libgen.lc/ads.php?md5=B224A3AF5ABBD2B8BD8353E7D4743AB5', 'Mirror_3': 'https://library.bz/main/edit/B224A3AF5ABBD2B8BD8353E7D4743AB5'}, {'ID': '2909157', 'Author': 'Emiliano Brancaccio', 'Title': 'Anti-Blanchard Macroeconomics: A Comparative Approach', 'Publisher': 'Edward Elgar Publishing Ltd', 'Year': '2019', 'Pages': '176[175]', 'Language': 'English', 'Size': '4 Mb', 'Extension': 'pdf', 'Mirror_1': 'http://library.lol/main/B779AA9808B3278FE8602E6AFB11145B', 'Mirror_2': 'http://libgen.lc/ads.php?md5=B779AA9808B3278FE8602E6AFB11145B', 'Mirror_3': 'https://library.bz/main/edit/B779AA9808B3278FE8602E6AFB11145B'}, {'ID': '3039176', 'Author': 'Olivier Blanchard,Jeffrey Sheen', 'Title': 'Macroeconomics Australasian Edition Edition 4', 'Publisher': 'Pearson Education Australia', 'Year': '2013', 'Pages': '638[665]', 'Language': 'English', 'Size': '25 Mb', 'Extension': 'pdf', 'Mirror_1': 'http://library.lol/main/4D12006AE0583B177561AA65824D9EBF', 'Mirror_2': 'http://libgen.lc/ads.php?md5=4D12006AE0583B177561AA65824D9EBF', 'Mirror_3': 'https://library.bz/main/edit/4D12006AE0583B177561AA65824D9EBF'}, {'ID': '3044952', 'Author': 'Olivier Blanchard', 'Title': 'Macroeconomics (8th Edition)', 'Publisher': 'Pearson', 'Year': '2020', 'Pages': '576[577]', 'Language': 'English', 'Size': '23 Mb', 'Extension': 'pdf', 'Mirror_1': 'http://library.lol/main/A1C2AC264BE18F9B15C6F0B5686B4508', 'Mirror_2': 'http://libgen.lc/ads.php?md5=A1C2AC264BE18F9B15C6F0B5686B4508', 'Mirror_3': 'https://library.bz/main/edit/A1C2AC264BE18F9B15C6F0B5686B4508'}, {'ID': '3045798', 'Author': 'Olivier Blanchard', 'Title': 'Macroeconomics [RENTAL EDITION] (8th Edition)', 'Publisher': 'Pearson', 'Year': '2020', 'Pages': '576[577]', 'Language': 'English', 'Size': '11 Mb', 'Extension': 'pdf', 'Mirror_1': 'http://library.lol/main/2145CCD611533F26E74FCB182CCC3551', 'Mirror_2': 'http://libgen.lc/ads.php?md5=2145CCD611533F26E74FCB182CCC3551', 'Mirror_3': 'https://library.bz/main/edit/2145CCD611533F26E74FCB182CCC3551'}]\n",
      "[]\n"
     ]
    }
   ],
   "source": [
    "filters = {\"Language\": \"English\", \"Extension\": \"pdf\"}\n",
    "metadata_list = []\n",
    "for k,v in books_dict.items():\n",
    "    search_prompt = k + ' ' +  v\n",
    "    book_search = libgen.search_holistic_filtered(f\"{search_prompt}\", filters, exact_match=False)\n",
    "    metadata_list.append(book_search)\n",
    "    print(book_search)"
   ]
  },
  {
   "cell_type": "code",
   "execution_count": 80,
   "metadata": {},
   "outputs": [
    {
     "data": {
      "text/plain": [
       "[{'ID': '223089',\n",
       "  'Author': 'N. Gregory Mankiw',\n",
       "  'Title': 'Principles of Macroeconomics (Canadian Edition)',\n",
       "  'Publisher': 'South-Western Educational Publishing',\n",
       "  'Year': '2002',\n",
       "  'Pages': '181',\n",
       "  'Language': 'English',\n",
       "  'Size': '22 Mb',\n",
       "  'Extension': 'pdf',\n",
       "  'Mirror_1': 'http://library.lol/main/B7EE3D47B897CFBE6C90872F0FC57874',\n",
       "  'Mirror_2': 'http://libgen.lc/ads.php?md5=B7EE3D47B897CFBE6C90872F0FC57874',\n",
       "  'Mirror_3': 'https://library.bz/main/edit/B7EE3D47B897CFBE6C90872F0FC57874'},\n",
       " {'ID': '12623',\n",
       "  'Author': 'Farmer R.E.A.',\n",
       "  'Title': 'Macroeconomics',\n",
       "  'Publisher': '',\n",
       "  'Year': '1997',\n",
       "  'Pages': '372',\n",
       "  'Language': 'English',\n",
       "  'Size': '3 Mb',\n",
       "  'Extension': 'pdf',\n",
       "  'Mirror_1': 'http://library.lol/main/7C4A0DFC27B30E3BBA4B84D736C3B37E',\n",
       "  'Mirror_2': 'http://libgen.lc/ads.php?md5=7C4A0DFC27B30E3BBA4B84D736C3B37E',\n",
       "  'Mirror_3': 'https://library.bz/main/edit/7C4A0DFC27B30E3BBA4B84D736C3B37E'},\n",
       " {'ID': '12657',\n",
       "  'Author': 'N. Gregory(N. Gregory Mankiw) Mankiw',\n",
       "  'Title': 'Principles of Macroeconomics',\n",
       "  'Publisher': 'South-Western College Pub',\n",
       "  'Year': '2003',\n",
       "  'Pages': '509',\n",
       "  'Language': 'English',\n",
       "  'Size': '7 Mb',\n",
       "  'Extension': 'pdf',\n",
       "  'Mirror_1': 'http://library.lol/main/4DAE78ED86AE14DEC3688C7315E5649B',\n",
       "  'Mirror_2': 'http://libgen.lc/ads.php?md5=4DAE78ED86AE14DEC3688C7315E5649B',\n",
       "  'Mirror_3': 'https://library.bz/main/edit/4DAE78ED86AE14DEC3688C7315E5649B'},\n",
       " {'ID': '24398',\n",
       "  'Author': 'Favero C.A.',\n",
       "  'Title': 'Applied macroeconomics',\n",
       "  'Publisher': 'Oxford University Press',\n",
       "  'Year': '2001',\n",
       "  'Pages': '312',\n",
       "  'Language': 'English',\n",
       "  'Size': '3 Mb',\n",
       "  'Extension': 'pdf',\n",
       "  'Mirror_1': 'http://library.lol/main/6AF532E03DC4EE29B97D2AC65795282D',\n",
       "  'Mirror_2': 'http://libgen.lc/ads.php?md5=6AF532E03DC4EE29B97D2AC65795282D',\n",
       "  'Mirror_3': 'https://library.bz/main/edit/6AF532E03DC4EE29B97D2AC65795282D'},\n",
       " {'ID': '26944',\n",
       "  'Author': 'Nelson Mark',\n",
       "  'Title': 'International Macroeconomics and Finance: Theory  and Econometric Methods',\n",
       "  'Publisher': 'Wiley-Blackwell',\n",
       "  'Year': '2001',\n",
       "  'Pages': '376',\n",
       "  'Language': 'English',\n",
       "  'Size': '2 Mb',\n",
       "  'Extension': 'pdf',\n",
       "  'Mirror_1': 'http://library.lol/main/27A603540A28201A90560839A67B0851',\n",
       "  'Mirror_2': 'http://libgen.lc/ads.php?md5=27A603540A28201A90560839A67B0851',\n",
       "  'Mirror_3': 'https://library.bz/main/edit/27A603540A28201A90560839A67B0851'},\n",
       " {'ID': '29107',\n",
       "  'Author': 'Brian Snowdon,Howard R. Vane',\n",
       "  'Title': 'Modern macroeconomics: its origins, development and current state',\n",
       "  'Publisher': 'E. Elgar',\n",
       "  'Year': '2005',\n",
       "  'Pages': '827',\n",
       "  'Language': 'English',\n",
       "  'Size': '3 Mb',\n",
       "  'Extension': 'pdf',\n",
       "  'Mirror_1': 'http://library.lol/main/4B5FA939FD5ABA2130653DCAA15FFD06',\n",
       "  'Mirror_2': 'http://libgen.lc/ads.php?md5=4B5FA939FD5ABA2130653DCAA15FFD06',\n",
       "  'Mirror_3': 'https://library.bz/main/edit/4B5FA939FD5ABA2130653DCAA15FFD06'},\n",
       " {'ID': '73071',\n",
       "  'Author': 'N. Gregory Mankiw',\n",
       "  'Title': 'Macroeconomics',\n",
       "  'Publisher': 'Worth Publishers',\n",
       "  'Year': '2003',\n",
       "  'Pages': '462',\n",
       "  'Language': 'English',\n",
       "  'Size': '5 Mb',\n",
       "  'Extension': 'pdf',\n",
       "  'Mirror_1': 'http://library.lol/main/C145B7281F831A504ABA9E9768739F86',\n",
       "  'Mirror_2': 'http://libgen.lc/ads.php?md5=C145B7281F831A504ABA9E9768739F86',\n",
       "  'Mirror_3': 'https://library.bz/main/edit/C145B7281F831A504ABA9E9768739F86'},\n",
       " {'ID': '79070',\n",
       "  'Author': 'N. Gregory Mankiw',\n",
       "  'Title': 'Principles of Macroeconomics',\n",
       "  'Publisher': 'South-Western College Pub',\n",
       "  'Year': '2008',\n",
       "  'Pages': '461',\n",
       "  'Language': 'English',\n",
       "  'Size': '6 Mb',\n",
       "  'Extension': 'pdf',\n",
       "  'Mirror_1': 'http://library.lol/main/07EE64A2643570F4FBAC90BC9B9DE5FF',\n",
       "  'Mirror_2': 'http://libgen.lc/ads.php?md5=07EE64A2643570F4FBAC90BC9B9DE5FF',\n",
       "  'Mirror_3': 'https://library.bz/main/edit/07EE64A2643570F4FBAC90BC9B9DE5FF'},\n",
       " {'ID': '79072',\n",
       "  'Author': 'Mankiw',\n",
       "  'Title': 'Principles of Macroeconomics',\n",
       "  'Publisher': '',\n",
       "  'Year': '',\n",
       "  'Pages': '508',\n",
       "  'Language': 'English',\n",
       "  'Size': '4 Mb',\n",
       "  'Extension': 'pdf',\n",
       "  'Mirror_1': 'http://library.lol/main/F58D13AAD8364E9ECDFD926BD489B67E',\n",
       "  'Mirror_2': 'http://libgen.lc/ads.php?md5=F58D13AAD8364E9ECDFD926BD489B67E',\n",
       "  'Mirror_3': 'https://library.bz/main/edit/F58D13AAD8364E9ECDFD926BD489B67E'},\n",
       " {'ID': '79080',\n",
       "  'Author': 'Brian Snowdon,Howard R. Vane',\n",
       "  'Title': 'Modern Macroeconomics',\n",
       "  'Publisher': 'Edward Elgar Publishing',\n",
       "  'Year': '2005',\n",
       "  'Pages': '826',\n",
       "  'Language': 'English',\n",
       "  'Size': '3 Mb',\n",
       "  'Extension': 'pdf',\n",
       "  'Mirror_1': 'http://library.lol/main/8D4160E4A9A1D1A22DFB41AD5E1CBA05',\n",
       "  'Mirror_2': 'http://libgen.lc/ads.php?md5=8D4160E4A9A1D1A22DFB41AD5E1CBA05',\n",
       "  'Mirror_3': 'https://library.bz/main/edit/8D4160E4A9A1D1A22DFB41AD5E1CBA05'},\n",
       " {'ID': '79083',\n",
       "  'Author': 'Maurice Obstfeld,Kenneth S. Rogoff',\n",
       "  'Title': 'Foundations of International Macroeconomics',\n",
       "  'Publisher': 'The MIT Press',\n",
       "  'Year': '1996',\n",
       "  'Pages': '814',\n",
       "  'Language': 'English',\n",
       "  'Size': '40 Mb',\n",
       "  'Extension': 'pdf',\n",
       "  'Mirror_1': 'http://library.lol/main/74ADB217775D7C0D44F64F81FD21FBF4',\n",
       "  'Mirror_2': 'http://libgen.lc/ads.php?md5=74ADB217775D7C0D44F64F81FD21FBF4',\n",
       "  'Mirror_3': 'https://library.bz/main/edit/74ADB217775D7C0D44F64F81FD21FBF4'},\n",
       " {'ID': '79087',\n",
       "  'Author': 'Rogoff',\n",
       "  'Title': 'Foundations of International Macroeconomics',\n",
       "  'Publisher': '',\n",
       "  'Year': '',\n",
       "  'Pages': '380',\n",
       "  'Language': 'English',\n",
       "  'Size': '26 Mb',\n",
       "  'Extension': 'pdf',\n",
       "  'Mirror_1': 'http://library.lol/main/8C998CA66C9F4030EE680FF3289AF41E',\n",
       "  'Mirror_2': 'http://libgen.lc/ads.php?md5=8C998CA66C9F4030EE680FF3289AF41E',\n",
       "  'Mirror_3': 'https://library.bz/main/edit/8C998CA66C9F4030EE680FF3289AF41E'},\n",
       " {'ID': '79088',\n",
       "  'Author': 'Romer',\n",
       "  'Title': 'Advanced Macroeconomics',\n",
       "  'Publisher': '',\n",
       "  'Year': '',\n",
       "  'Pages': '550',\n",
       "  'Language': 'English',\n",
       "  'Size': '26 Mb',\n",
       "  'Extension': 'pdf',\n",
       "  'Mirror_1': 'http://library.lol/main/9CEC5187CF244D48F3EDAEF22CB97792',\n",
       "  'Mirror_2': 'http://libgen.lc/ads.php?md5=9CEC5187CF244D48F3EDAEF22CB97792',\n",
       "  'Mirror_3': 'https://library.bz/main/edit/9CEC5187CF244D48F3EDAEF22CB97792'},\n",
       " {'ID': '79089',\n",
       "  'Author': 'Romer',\n",
       "  'Title': 'Advanced Macroeconomics Solutions',\n",
       "  'Publisher': '',\n",
       "  'Year': '',\n",
       "  'Pages': '266',\n",
       "  'Language': 'English',\n",
       "  'Size': '17 Mb',\n",
       "  'Extension': 'pdf',\n",
       "  'Mirror_1': 'http://library.lol/main/3E3B1EF369A1CD4226F9298D0B42E296',\n",
       "  'Mirror_2': 'http://libgen.lc/ads.php?md5=3E3B1EF369A1CD4226F9298D0B42E296',\n",
       "  'Mirror_3': 'https://library.bz/main/edit/3E3B1EF369A1CD4226F9298D0B42E296'},\n",
       " {'ID': '112000',\n",
       "  'Author': 'N. Gregory Mankiw',\n",
       "  'Title': 'Brief principles of macroeconomics',\n",
       "  'Publisher': 'South-Western Cengage Learning',\n",
       "  'Year': '2008',\n",
       "  'Pages': '469',\n",
       "  'Language': 'English',\n",
       "  'Size': '18 Mb',\n",
       "  'Extension': 'pdf',\n",
       "  'Mirror_1': 'http://library.lol/main/B09D959B500A90569DD48BD5081541CB',\n",
       "  'Mirror_2': 'http://libgen.lc/ads.php?md5=B09D959B500A90569DD48BD5081541CB',\n",
       "  'Mirror_3': 'https://library.bz/main/edit/B09D959B500A90569DD48BD5081541CB'},\n",
       " {'ID': '122587',\n",
       "  'Author': 'Ben J. Heijdra,Frederick van der Ploeg',\n",
       "  'Title': 'Foundations of Modern Macroeconomics [bw,poor layout',\n",
       "  'Publisher': 'Oxford University Press, USA',\n",
       "  'Year': '2002',\n",
       "  'Pages': '718',\n",
       "  'Language': 'English',\n",
       "  'Size': '26 Mb',\n",
       "  'Extension': 'pdf',\n",
       "  'Mirror_1': 'http://library.lol/main/6A32477130FACAA68AFE8E734085D06E',\n",
       "  'Mirror_2': 'http://libgen.lc/ads.php?md5=6A32477130FACAA68AFE8E734085D06E',\n",
       "  'Mirror_3': 'https://library.bz/main/edit/6A32477130FACAA68AFE8E734085D06E'},\n",
       " {'ID': '135405',\n",
       "  'Author': 'Domenico Gatti,Edoardo Gaffeo,Mauro Gallegati,Gianfranco Giulioni,Antonio Palestrini',\n",
       "  'Title': 'Emergent Macroeconomics',\n",
       "  'Publisher': 'Springer',\n",
       "  'Year': '2010',\n",
       "  'Pages': '139',\n",
       "  'Language': 'English',\n",
       "  'Size': '2 Mb',\n",
       "  'Extension': 'pdf',\n",
       "  'Mirror_1': 'http://library.lol/main/1D49359F70C74AA79712A01245DD8D84',\n",
       "  'Mirror_2': 'http://libgen.lc/ads.php?md5=1D49359F70C74AA79712A01245DD8D84',\n",
       "  'Mirror_3': 'https://library.bz/main/edit/1D49359F70C74AA79712A01245DD8D84'},\n",
       " {'ID': '137891',\n",
       "  'Author': 'Jeffrey A. Frankel,Christopher A. Pissarides',\n",
       "  'Title': 'NBER International Seminar on Macroeconomics 2005',\n",
       "  'Publisher': 'The MIT Press',\n",
       "  'Year': '2007',\n",
       "  'Pages': '424[421]',\n",
       "  'Language': 'English',\n",
       "  'Size': '2 Mb',\n",
       "  'Extension': 'pdf',\n",
       "  'Mirror_1': 'http://library.lol/main/E111812FBE63BC8A97279132DB348BE5',\n",
       "  'Mirror_2': 'http://libgen.lc/ads.php?md5=E111812FBE63BC8A97279132DB348BE5',\n",
       "  'Mirror_3': 'https://library.bz/main/edit/E111812FBE63BC8A97279132DB348BE5'},\n",
       " {'ID': '205842',\n",
       "  'Author': 'James Ahiakpor',\n",
       "  'Title': 'Classical Macroeconomics: Some Modern Variations And Distortions',\n",
       "  'Publisher': 'Routledge',\n",
       "  'Year': '2003',\n",
       "  'Pages': '273',\n",
       "  'Language': 'English',\n",
       "  'Size': '3 Mb',\n",
       "  'Extension': 'pdf',\n",
       "  'Mirror_1': 'http://library.lol/main/2B02EF0F20F177F3538FD63B3D32AECC',\n",
       "  'Mirror_2': 'http://libgen.lc/ads.php?md5=2B02EF0F20F177F3538FD63B3D32AECC',\n",
       "  'Mirror_3': 'https://library.bz/main/edit/2B02EF0F20F177F3538FD63B3D32AECC'}]"
      ]
     },
     "execution_count": 80,
     "metadata": {},
     "output_type": "execute_result"
    }
   ],
   "source": [
    "title_filters = {\"Language\": \"English\", \"Extension\": \"pdf\"}\n",
    "titles = libgen.search_title_filtered(\"Macroeconomics\", title_filters, exact_match=True)\n",
    "titles\n",
    "\n",
    "#books_dict.values()"
   ]
  },
  {
   "cell_type": "code",
   "execution_count": 8,
   "metadata": {},
   "outputs": [
    {
     "name": "stdout",
     "output_type": "stream",
     "text": [
      "[{'ID': '261367', 'Author': 'Jane Austen,Margaret Drabble', 'Title': 'Persuasion', 'Publisher': 'Signet Classics', 'Year': '1996', 'Pages': '221', 'Language': 'English', 'Size': '520 Kb', 'Extension': 'pdf', 'Mirror_1': 'http://library.lol/main/9A69D873CB6C3A1FB071F00C1736BEA5', 'Mirror_2': 'http://libgen.lc/ads.php?md5=9A69D873CB6C3A1FB071F00C1736BEA5', 'Mirror_3': 'https://library.bz/main/edit/9A69D873CB6C3A1FB071F00C1736BEA5'}, {'ID': '261368', 'Author': 'Jane Austen,R. W. Chapman', 'Title': 'Lady Susan', 'Publisher': 'Dover Publications', 'Year': '2005', 'Pages': '71', 'Language': 'English', 'Size': '254 Kb', 'Extension': 'pdf', 'Mirror_1': 'http://library.lol/main/E891648418CC8E1CCF31DE664CF14FC2', 'Mirror_2': 'http://libgen.lc/ads.php?md5=E891648418CC8E1CCF31DE664CF14FC2', 'Mirror_3': 'https://library.bz/main/edit/E891648418CC8E1CCF31DE664CF14FC2'}, {'ID': '261779', 'Author': 'Jane Austen,Claudia L. Johnson', 'Title': 'Mansfield Park', 'Publisher': 'W. W. Norton & Company', 'Year': '1998', 'Pages': '542', 'Language': 'English', 'Size': '8 Mb', 'Extension': 'pdf', 'Mirror_1': 'http://library.lol/main/62306F81D282215E853B3E32271EF1BC', 'Mirror_2': 'http://libgen.lc/ads.php?md5=62306F81D282215E853B3E32271EF1BC', 'Mirror_3': 'https://library.bz/main/edit/62306F81D282215E853B3E32271EF1BC'}, {'ID': '261780', 'Author': 'Jane Austen,Stephen M. Parrish', 'Title': 'Emma', 'Publisher': 'W. W. Norton & Company', 'Year': '1999', 'Pages': '465', 'Language': 'English', 'Size': '7 Mb', 'Extension': 'pdf', 'Mirror_1': 'http://library.lol/main/1F0D083B94E972D012BBBAFF2B978A7A', 'Mirror_2': 'http://libgen.lc/ads.php?md5=1F0D083B94E972D012BBBAFF2B978A7A', 'Mirror_3': 'https://library.bz/main/edit/1F0D083B94E972D012BBBAFF2B978A7A'}, {'ID': '268944', 'Author': 'Jane Austen', 'Title': 'Pride and Prejudice', 'Publisher': 'Saddleback Educational Publishing, Inc.', 'Year': '2003', 'Pages': '81', 'Language': 'English', 'Size': '957 Kb', 'Extension': 'pdf', 'Mirror_1': 'http://library.lol/main/2EC14543EA6697679FD47C49FAE965E4', 'Mirror_2': 'http://libgen.lc/ads.php?md5=2EC14543EA6697679FD47C49FAE965E4', 'Mirror_3': 'https://library.bz/main/edit/2EC14543EA6697679FD47C49FAE965E4'}, {'ID': '309854', 'Author': 'Jane Austen,Patricia Meyer Spacks', 'Title': 'Persuasion (Norton Critical Editions)', 'Publisher': 'W. W. Norton & Company', 'Year': '1994', 'Pages': '332', 'Language': 'English', 'Size': '5 Mb', 'Extension': 'pdf', 'Mirror_1': 'http://library.lol/main/976FCBB6D49448D1665E519BC35D7F3A', 'Mirror_2': 'http://libgen.lc/ads.php?md5=976FCBB6D49448D1665E519BC35D7F3A', 'Mirror_3': 'https://library.bz/main/edit/976FCBB6D49448D1665E519BC35D7F3A'}, {'ID': '316747', 'Author': 'Jane Austen', 'Title': 'Emma', 'Publisher': 'Bantam Classics', 'Year': '1984', 'Pages': '745', 'Language': 'English', 'Size': '2 Mb', 'Extension': 'pdf', 'Mirror_1': 'http://library.lol/main/FCA7C60221E40A08A4AD505CAD578C73', 'Mirror_2': 'http://libgen.lc/ads.php?md5=FCA7C60221E40A08A4AD505CAD578C73', 'Mirror_3': 'https://library.bz/main/edit/FCA7C60221E40A08A4AD505CAD578C73'}, {'ID': '316748', 'Author': 'Jane Austen', 'Title': 'Pride and Prejudice', 'Publisher': 'CIDEB', 'Year': '2000', 'Pages': '82', 'Language': 'English', 'Size': '27 Mb', 'Extension': 'pdf', 'Mirror_1': 'http://library.lol/main/AB13556B96D473C8DFAD7165C4704526', 'Mirror_2': 'http://libgen.lc/ads.php?md5=AB13556B96D473C8DFAD7165C4704526', 'Mirror_3': 'https://library.bz/main/edit/AB13556B96D473C8DFAD7165C4704526'}, {'ID': '881281', 'Author': 'Jane Austen', 'Title': 'Uvjeravanje', 'Publisher': '', 'Year': '', 'Pages': '0', 'Language': 'Croatian', 'Size': '1 Mb', 'Extension': 'mobi', 'Mirror_1': 'http://library.lol/main/95514655F69C5F78B02387E972391522', 'Mirror_2': 'http://libgen.lc/ads.php?md5=95514655F69C5F78B02387E972391522', 'Mirror_3': 'https://library.bz/main/edit/95514655F69C5F78B02387E972391522'}, {'ID': '881280', 'Author': 'Jane Austen', 'Title': 'Razum i osjećaji', 'Publisher': '', 'Year': '', 'Pages': '0', 'Language': 'Croatian', 'Size': '868 Kb', 'Extension': 'mobi', 'Mirror_1': 'http://library.lol/main/E0DCBDB05D3F561DCBB5796062D30A61', 'Mirror_2': 'http://libgen.lc/ads.php?md5=E0DCBDB05D3F561DCBB5796062D30A61', 'Mirror_3': 'https://library.bz/main/edit/E0DCBDB05D3F561DCBB5796062D30A61'}, {'ID': '881279', 'Author': 'Jane Austen', 'Title': 'Ponos i predrasude', 'Publisher': '', 'Year': '', 'Pages': '0', 'Language': 'Croatian', 'Size': '691 Kb', 'Extension': 'mobi', 'Mirror_1': 'http://library.lol/main/D066358EFC7A8E172282EA8F8AB4E021', 'Mirror_2': 'http://libgen.lc/ads.php?md5=D066358EFC7A8E172282EA8F8AB4E021', 'Mirror_3': 'https://library.bz/main/edit/D066358EFC7A8E172282EA8F8AB4E021'}, {'ID': '881278', 'Author': 'Jane Austen', 'Title': 'Opatija Northanger', 'Publisher': '', 'Year': '', 'Pages': '0', 'Language': 'Croatian', 'Size': '545 Kb', 'Extension': 'mobi', 'Mirror_1': 'http://library.lol/main/06848554AB3F607AC35D630E1D9761BE', 'Mirror_2': 'http://libgen.lc/ads.php?md5=06848554AB3F607AC35D630E1D9761BE', 'Mirror_3': 'https://library.bz/main/edit/06848554AB3F607AC35D630E1D9761BE'}, {'ID': '385071', 'Author': 'Jane Austen', 'Title': \"Jane Austen's Sense and Sensibility\", 'Publisher': 'Tark Classic Fiction', 'Year': '2008', 'Pages': '416', 'Language': 'English', 'Size': '2 Mb', 'Extension': 'pdf', 'Mirror_1': 'http://library.lol/main/40C73A7891878836329927C89DB0A7CB', 'Mirror_2': 'http://libgen.lc/ads.php?md5=40C73A7891878836329927C89DB0A7CB', 'Mirror_3': 'https://library.bz/main/edit/40C73A7891878836329927C89DB0A7CB'}, {'ID': '396712', 'Author': 'Jane Austen,John Wiltshire', 'Title': 'Mansfield Park', 'Publisher': 'Cambridge University Press', 'Year': '2005', 'Pages': '826[828]', 'Language': 'English', 'Size': '7 Mb', 'Extension': 'pdf', 'Mirror_1': 'http://library.lol/main/47677B948AA68EF469A0FF15C9FA49E2', 'Mirror_2': 'http://libgen.lc/ads.php?md5=47677B948AA68EF469A0FF15C9FA49E2', 'Mirror_3': 'https://library.bz/main/edit/47677B948AA68EF469A0FF15C9FA49E2'}, {'ID': '402555', 'Author': 'Jane Austen', 'Title': \"Sense and Sensibility (Webster's Korean Thesaurus Edition)\", 'Publisher': '', 'Year': '2006', 'Pages': '412', 'Language': 'English', 'Size': '3 Mb', 'Extension': 'pdf', 'Mirror_1': 'http://library.lol/main/84B4EF6E8E53DCE730F57273DB03AF71', 'Mirror_2': 'http://libgen.lc/ads.php?md5=84B4EF6E8E53DCE730F57273DB03AF71', 'Mirror_3': 'https://library.bz/main/edit/84B4EF6E8E53DCE730F57273DB03AF71'}, {'ID': '403829', 'Author': 'Jane Austen', 'Title': 'Emma', 'Publisher': 'CreateSpace', 'Year': '2010', 'Pages': '298[320]', 'Language': 'English', 'Size': '1 Mb', 'Extension': 'pdf', 'Mirror_1': 'http://library.lol/main/82B24691FE6F1A1CEC94CE49B2185511', 'Mirror_2': 'http://libgen.lc/ads.php?md5=82B24691FE6F1A1CEC94CE49B2185511', 'Mirror_3': 'https://library.bz/main/edit/82B24691FE6F1A1CEC94CE49B2185511'}, {'ID': '409252', 'Author': 'Jane Austen', 'Title': \"Mansfield Park (Webster's French Thesaurus Edition)\", 'Publisher': '', 'Year': '2006', 'Pages': '472[473]', 'Language': 'English', 'Size': '4 Mb', 'Extension': 'pdf', 'Mirror_1': 'http://library.lol/main/7CEDEB6307D2D3096B1C1928F2AF2CCA', 'Mirror_2': 'http://libgen.lc/ads.php?md5=7CEDEB6307D2D3096B1C1928F2AF2CCA', 'Mirror_3': 'https://library.bz/main/edit/7CEDEB6307D2D3096B1C1928F2AF2CCA'}, {'ID': '410692', 'Author': 'Jane Austen', 'Title': 'Persuasion', 'Publisher': 'Elegant Solutions Software Company', 'Year': '2001', 'Pages': '345', 'Language': 'English', 'Size': '225 Kb', 'Extension': 'lit', 'Mirror_1': 'http://library.lol/main/7ABDC283DCE08AE45B9D951685BD0E3F', 'Mirror_2': 'http://libgen.lc/ads.php?md5=7ABDC283DCE08AE45B9D951685BD0E3F', 'Mirror_3': 'https://library.bz/main/edit/7ABDC283DCE08AE45B9D951685BD0E3F'}, {'ID': '417569', 'Author': 'Jane Austen', 'Title': \"Persuasion (Webster's Korean Thesaurus Edition)\", 'Publisher': '', 'Year': '2006', 'Pages': '290[291]', 'Language': 'English', 'Size': '3 Mb', 'Extension': 'pdf', 'Mirror_1': 'http://library.lol/main/723A1EC52F647F9B4D029690832E0C3B', 'Mirror_2': 'http://libgen.lc/ads.php?md5=723A1EC52F647F9B4D029690832E0C3B', 'Mirror_3': 'https://library.bz/main/edit/723A1EC52F647F9B4D029690832E0C3B'}, {'ID': '427426', 'Author': 'Jane Austen', 'Title': 'Love and Friendship', 'Publisher': '', 'Year': '2003', 'Pages': '112[29]', 'Language': 'English', 'Size': '212 Kb', 'Extension': 'pdf', 'Mirror_1': 'http://library.lol/main/669C563D749970A83D11F56D1C9A533F', 'Mirror_2': 'http://libgen.lc/ads.php?md5=669C563D749970A83D11F56D1C9A533F', 'Mirror_3': 'https://library.bz/main/edit/669C563D749970A83D11F56D1C9A533F'}, {'ID': '428300', 'Author': 'Jane Austen', 'Title': \"Persuasion (Webster's German Thesaurus Edition)\", 'Publisher': '', 'Year': '2006', 'Pages': '278', 'Language': 'English', 'Size': '2 Mb', 'Extension': 'pdf', 'Mirror_1': 'http://library.lol/main/65F98C1D2C28249DAAD727545036CDF4', 'Mirror_2': 'http://libgen.lc/ads.php?md5=65F98C1D2C28249DAAD727545036CDF4', 'Mirror_3': 'https://library.bz/main/edit/65F98C1D2C28249DAAD727545036CDF4'}, {'ID': '434049', 'Author': 'Jane Austen', 'Title': \"Sense and Sensibility (Webster's German Thesaurus Edition)\", 'Publisher': '', 'Year': '2006', 'Pages': '400[401]', 'Language': 'English', 'Size': '3 Mb', 'Extension': 'pdf', 'Mirror_1': 'http://library.lol/main/5E3C3C761083EB63A448A5BA939B376E', 'Mirror_2': 'http://libgen.lc/ads.php?md5=5E3C3C761083EB63A448A5BA939B376E', 'Mirror_3': 'https://library.bz/main/edit/5E3C3C761083EB63A448A5BA939B376E'}, {'ID': '453658', 'Author': 'Jane Austen', 'Title': \"Mansfield Park (Webster's Spanish Thesaurus Edition)\", 'Publisher': '', 'Year': '2006', 'Pages': '468[469]', 'Language': 'English', 'Size': '4 Mb', 'Extension': 'pdf', 'Mirror_1': 'http://library.lol/main/EF5834A900A4BBB475F3DEC6D7F876DE', 'Mirror_2': 'http://libgen.lc/ads.php?md5=EF5834A900A4BBB475F3DEC6D7F876DE', 'Mirror_3': 'https://library.bz/main/edit/EF5834A900A4BBB475F3DEC6D7F876DE'}, {'ID': '457906', 'Author': 'Jane Austen,Margaret Tarner', 'Title': 'Emma: Intermediate (Macmillan Readers)', 'Publisher': '', 'Year': '2005', 'Pages': '128[58]', 'Language': 'English', 'Size': '5 Mb', 'Extension': 'pdf', 'Mirror_1': 'http://library.lol/main/EA1AF431EF1628A3967BB0FA0BA00ACA', 'Mirror_2': 'http://libgen.lc/ads.php?md5=EA1AF431EF1628A3967BB0FA0BA00ACA', 'Mirror_3': 'https://library.bz/main/edit/EA1AF431EF1628A3967BB0FA0BA00ACA'}, {'ID': '462289', 'Author': 'Jane Austen', 'Title': 'Northanger Abbey', 'Publisher': 'CreateSpace', 'Year': '2010', 'Pages': '168[223]', 'Language': 'English', 'Size': '395 Kb', 'Extension': 'pdf', 'Mirror_1': 'http://library.lol/main/E443E6F9758D1CDEB520DF45D920A53B', 'Mirror_2': 'http://libgen.lc/ads.php?md5=E443E6F9758D1CDEB520DF45D920A53B', 'Mirror_3': 'https://library.bz/main/edit/E443E6F9758D1CDEB520DF45D920A53B'}]\n",
      "{'GET': 'http://62.182.86.140/main/261000/9a69d873cb6c3a1fb071f00c1736bea5/%28Signet%20Classics%29%20Jane%20Austen%2C%20Margaret%20Drabble%20-%20Persuasion-Signet%20Classics%20%281996%29.pdf', 'Cloudflare': 'https://cloudflare-ipfs.com/ipfs/bafykbzacec37xvczlpyqtb4jwbdcpxlmxvmcrud2nhac36ki4emv2dwbz72qk?filename=%28Signet%20Classics%29%20Jane%20Austen%2C%20Margaret%20Drabble%20-%20Persuasion-Signet%20Classics%20%281996%29.pdf', 'IPFS.io': 'https://gateway.ipfs.io/ipfs/bafykbzacec37xvczlpyqtb4jwbdcpxlmxvmcrud2nhac36ki4emv2dwbz72qk?filename=%28Signet%20Classics%29%20Jane%20Austen%2C%20Margaret%20Drabble%20-%20Persuasion-Signet%20Classics%20%281996%29.pdf'}\n"
     ]
    }
   ],
   "source": [
    "results = libgen.search_author(\"Jane Austen\")\n",
    "download_all_links = dict()\n",
    "for i in range(len(results)):\n",
    "    item_to_download = results[i]\n",
    "    download_links = libgen.resolve_download_links(item_to_download)\n",
    "    \n",
    "\n",
    "print(download_links)"
   ]
  },
  {
   "cell_type": "code",
   "execution_count": 16,
   "metadata": {},
   "outputs": [
    {
     "data": {
      "text/plain": [
       "25"
      ]
     },
     "execution_count": 16,
     "metadata": {},
     "output_type": "execute_result"
    }
   ],
   "source": [
    "len(results)"
   ]
  },
  {
   "cell_type": "code",
   "execution_count": null,
   "metadata": {},
   "outputs": [],
   "source": []
  },
  {
   "cell_type": "code",
   "execution_count": null,
   "metadata": {},
   "outputs": [],
   "source": []
  },
  {
   "cell_type": "code",
   "execution_count": null,
   "metadata": {},
   "outputs": [],
   "source": []
  },
  {
   "cell_type": "code",
   "execution_count": 19,
   "metadata": {},
   "outputs": [
    {
     "data": {
      "text/plain": [
       "[{'ID': '402153',\n",
       "  'Author': 'Agatha Christie',\n",
       "  'Title': 'Murder on the Orient Express: A Hercule Poirot Mystery',\n",
       "  'Publisher': '',\n",
       "  'Year': '1934',\n",
       "  'Pages': '',\n",
       "  'Language': 'English',\n",
       "  'Size': '197 Kb',\n",
       "  'Extension': 'epub',\n",
       "  'Mirror_1': 'http://library.lol/main/84959F8604B07C439A9473A6E645668A',\n",
       "  'Mirror_2': 'http://libgen.lc/ads.php?md5=84959F8604B07C439A9473A6E645668A',\n",
       "  'Mirror_3': 'https://library.bz/main/edit/84959F8604B07C439A9473A6E645668A'},\n",
       " {'ID': '411350',\n",
       "  'Author': 'Agatha Christie',\n",
       "  'Title': 'The Mystery of the Blue Train',\n",
       "  'Publisher': '',\n",
       "  'Year': '',\n",
       "  'Pages': '',\n",
       "  'Language': 'English',\n",
       "  'Size': '239 Kb',\n",
       "  'Extension': 'epub',\n",
       "  'Mirror_1': 'http://library.lol/main/79E6C529F6962F81AC46EB66FBECE715',\n",
       "  'Mirror_2': 'http://libgen.lc/ads.php?md5=79E6C529F6962F81AC46EB66FBECE715',\n",
       "  'Mirror_3': 'https://library.bz/main/edit/79E6C529F6962F81AC46EB66FBECE715'}]"
      ]
     },
     "execution_count": 19,
     "metadata": {},
     "output_type": "execute_result"
    }
   ],
   "source": []
  },
  {
   "cell_type": "code",
   "execution_count": null,
   "metadata": {},
   "outputs": [],
   "source": []
  },
  {
   "cell_type": "code",
   "execution_count": null,
   "metadata": {},
   "outputs": [],
   "source": []
  },
  {
   "cell_type": "code",
   "execution_count": null,
   "metadata": {},
   "outputs": [],
   "source": []
  },
  {
   "cell_type": "code",
   "execution_count": null,
   "metadata": {},
   "outputs": [],
   "source": []
  },
  {
   "cell_type": "code",
   "execution_count": null,
   "metadata": {},
   "outputs": [],
   "source": [
    "# Correr proceso en terminal para realizar las descargas\n",
    "p = subprocess.run()"
   ]
  }
 ],
 "metadata": {
  "kernelspec": {
   "display_name": "base",
   "language": "python",
   "name": "python3"
  },
  "language_info": {
   "codemirror_mode": {
    "name": "ipython",
    "version": 3
   },
   "file_extension": ".py",
   "mimetype": "text/x-python",
   "name": "python",
   "nbconvert_exporter": "python",
   "pygments_lexer": "ipython3",
   "version": "3.11.4"
  },
  "orig_nbformat": 4
 },
 "nbformat": 4,
 "nbformat_minor": 2
}
