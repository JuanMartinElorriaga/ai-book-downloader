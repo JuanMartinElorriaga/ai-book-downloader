{
 "cells": [
  {
   "attachments": {},
   "cell_type": "markdown",
   "metadata": {},
   "source": [
    "### Libgen bulk downloader"
   ]
  },
  {
   "cell_type": "code",
   "execution_count": 17,
   "metadata": {},
   "outputs": [
    {
     "name": "stdout",
     "output_type": "stream",
     "text": [
      "/Users/jm/Repos/ai-book-downloader/libgen/__init__.py\n"
     ]
    }
   ],
   "source": [
    "import wget\n",
    "import urllib.request\n",
    "import socket\n",
    "import bardapi\n",
    "from libgen.libgen_search import LibgenSearch\n",
    "import subprocess\n",
    "import re\n",
    "import libgen\n",
    "print(libgen.__file__)\n",
    "from bardapi import Bard\n",
    "import os\n",
    "from dotenv import load_dotenv\n",
    "load_dotenv()\n",
    "BARD_TOKEN = os.getenv('BARD_TOKEN')"
   ]
  },
  {
   "attachments": {},
   "cell_type": "markdown",
   "metadata": {},
   "source": [
    "### BARD"
   ]
  },
  {
   "cell_type": "code",
   "execution_count": null,
   "metadata": {},
   "outputs": [],
   "source": [
    "# USER INPUTS\n",
    "topic = 'Macroeconomics'\n",
    "limit = 5"
   ]
  },
  {
   "cell_type": "code",
   "execution_count": null,
   "metadata": {},
   "outputs": [],
   "source": [
    "#bard = Bard(token_from_browser=True)\n",
    "#res = bard.get_answer(\"Do you like cookies?\")\n",
    "#print(res)"
   ]
  },
  {
   "cell_type": "code",
   "execution_count": null,
   "metadata": {},
   "outputs": [],
   "source": [
    "input_text = f\"Create a list of the best {limit} books related to {topic}. Return your response as a python dictionary, with the author name as the key and book title as a value. Your answer has to contain ONLY the python dictionary!\"\n",
    "#bard_response = bard.get_answer(input_text)['content']\n",
    "response = bardapi.core.Bard(BARD_TOKEN).get_answer(input_text)"
   ]
  },
  {
   "cell_type": "code",
   "execution_count": null,
   "metadata": {},
   "outputs": [],
   "source": [
    "response['code']"
   ]
  },
  {
   "cell_type": "code",
   "execution_count": null,
   "metadata": {},
   "outputs": [],
   "source": [
    "# Extract dict from response string\n",
    "pattern = r\"\\{(.*?)\\}\"\n",
    "match = re.search(pattern, response['code'], re.DOTALL)\n",
    "if match:\n",
    "    extracted_content = match.group(1)\n",
    "    final_str = \"{\" + str(extracted_content) + \"}\"\n",
    "    books_dict = eval(final_str)\n",
    "    print(books_dict)"
   ]
  },
  {
   "attachments": {},
   "cell_type": "markdown",
   "metadata": {},
   "source": [
    "### LIBGEN"
   ]
  },
  {
   "cell_type": "code",
   "execution_count": 3,
   "metadata": {},
   "outputs": [],
   "source": [
    "dummy_data = {'Mankiw': 'Principles of Economics', 'Romer': 'Advanced Macroeconomics', 'Krugman': 'Macroeconomics', 'Blanchard': 'Macroeconomics', 'Stiglitz': 'The Roaring Nineties'}"
   ]
  },
  {
   "cell_type": "code",
   "execution_count": 4,
   "metadata": {},
   "outputs": [],
   "source": [
    "ls = LibgenSearch()"
   ]
  },
  {
   "cell_type": "code",
   "execution_count": 33,
   "metadata": {},
   "outputs": [
    {
     "name": "stdout",
     "output_type": "stream",
     "text": [
      "Download from GET mirror failed. Error: <urlopen error [Errno 60] Operation timed out>\n",
      "Cloudflare file saved to downloads/Mankiw_Principles of Economics.pdf\n",
      "Download from GET mirror failed. Error: <urlopen error [Errno 60] Operation timed out>\n",
      "Cloudflare file saved to downloads/Romer_Advanced Macroeconomics.pdf\n",
      "Download from GET mirror failed. Error: <urlopen error [Errno 60] Operation timed out>\n",
      "Cloudflare file saved to downloads/Krugman_Macroeconomics.pdf\n",
      "Download from GET mirror failed. Error: <urlopen error [Errno 51] Network is unreachable>\n",
      "Cloudflare file saved to downloads/Blanchard_Macroeconomics.pdf\n",
      "Download from all mirrors failed.\n"
     ]
    }
   ],
   "source": [
    "# DOWNLOAD FILE USING MIRRORS\n",
    "\n",
    "filters = {\"Language\": \"English\", \"Extension\": \"pdf\"}\n",
    "timeout = 240\n",
    "\n",
    "metadata_list = []\n",
    "for k,v in dummy_data.items():\n",
    "    search_prompt = k+' '+v\n",
    "    filename = k+'_'+v\n",
    "    book_search = ls.search_holistic_filtered(f\"{search_prompt}\", filters, exact_match=False)\n",
    "    if book_search:\n",
    "        metadata_list.append(book_search[0])\n",
    "        download_links = ls.resolve_download_links(book_search[0])\n",
    "        for mirror, url in download_links.items():\n",
    "            try:\n",
    "                response = urllib.request.urlopen(url, timeout=timeout)\n",
    "                content = response.read()\n",
    "                save_path = f'downloads/{filename}.pdf'\n",
    "                with open(save_path, 'wb') as file:\n",
    "                    file.write(content)\n",
    "                print(f'{mirror} file saved to {save_path}')\n",
    "                break\n",
    "            except urllib.error.URLError as e:\n",
    "                print(f\"Download from {mirror} mirror failed. Error: {e}\")\n",
    "            except socket.timeout:\n",
    "                print(f\"Download from {mirror} mirror timed out.\")\n",
    "else:\n",
    "    print(\"Download from all mirrors failed.\")"
   ]
  },
  {
   "cell_type": "code",
   "execution_count": null,
   "metadata": {},
   "outputs": [],
   "source": []
  },
  {
   "cell_type": "code",
   "execution_count": null,
   "metadata": {},
   "outputs": [],
   "source": []
  },
  {
   "cell_type": "code",
   "execution_count": null,
   "metadata": {},
   "outputs": [],
   "source": []
  },
  {
   "cell_type": "code",
   "execution_count": null,
   "metadata": {},
   "outputs": [],
   "source": []
  },
  {
   "cell_type": "code",
   "execution_count": null,
   "metadata": {},
   "outputs": [],
   "source": []
  }
 ],
 "metadata": {
  "kernelspec": {
   "display_name": "base",
   "language": "python",
   "name": "python3"
  },
  "language_info": {
   "codemirror_mode": {
    "name": "ipython",
    "version": 3
   },
   "file_extension": ".py",
   "mimetype": "text/x-python",
   "name": "python",
   "nbconvert_exporter": "python",
   "pygments_lexer": "ipython3",
   "version": "3.11.4"
  },
  "orig_nbformat": 4
 },
 "nbformat": 4,
 "nbformat_minor": 2
}
