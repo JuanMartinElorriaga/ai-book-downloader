{
 "cells": [
  {
   "attachments": {},
   "cell_type": "markdown",
   "metadata": {},
   "source": [
    "### Libgen bulk downloader"
   ]
  },
  {
   "cell_type": "code",
   "execution_count": 2,
   "metadata": {},
   "outputs": [
    {
     "name": "stdout",
     "output_type": "stream",
     "text": [
      "/Users/jm/.local/share/virtualenvs/ai-book-downloader-UvFuf6cO/lib/python3.11/site-packages/libgen_api/__init__.py\n"
     ]
    }
   ],
   "source": [
    "import requests\n",
    "import bardapi\n",
    "from libgen_api import LibgenSearch\n",
    "import subprocess\n",
    "import re\n",
    "import libgen_api\n",
    "print(libgen_api.__file__)\n",
    "from bardapi import Bard\n",
    "import os\n",
    "from dotenv import load_dotenv\n",
    "load_dotenv()\n",
    "BARD_TOKEN = os.getenv('BARD_TOKEN')"
   ]
  },
  {
   "attachments": {},
   "cell_type": "markdown",
   "metadata": {},
   "source": [
    "### BARD"
   ]
  },
  {
   "cell_type": "code",
   "execution_count": null,
   "metadata": {},
   "outputs": [],
   "source": [
    "# USER INPUTS\n",
    "topic = 'Macroeconomics'\n",
    "limit = 5"
   ]
  },
  {
   "cell_type": "code",
   "execution_count": null,
   "metadata": {},
   "outputs": [],
   "source": [
    "#bard = Bard(token_from_browser=True)\n",
    "#res = bard.get_answer(\"Do you like cookies?\")\n",
    "#print(res)"
   ]
  },
  {
   "cell_type": "code",
   "execution_count": null,
   "metadata": {},
   "outputs": [],
   "source": [
    "input_text = f\"Create a list of the best {limit} books related to {topic}. Return your response as a python dictionary, with the author name as the key and book title as a value. Your answer has to contain ONLY the python dictionary!\"\n",
    "#bard_response = bard.get_answer(input_text)['content']\n",
    "response = bardapi.core.Bard(BARD_TOKEN).get_answer(input_text)"
   ]
  },
  {
   "cell_type": "code",
   "execution_count": null,
   "metadata": {},
   "outputs": [],
   "source": [
    "response['code']"
   ]
  },
  {
   "cell_type": "code",
   "execution_count": null,
   "metadata": {},
   "outputs": [],
   "source": [
    "# Extract dict from response string\n",
    "pattern = r\"\\{(.*?)\\}\"\n",
    "match = re.search(pattern, response['code'], re.DOTALL)\n",
    "if match:\n",
    "    extracted_content = match.group(1)\n",
    "    final_str = \"{\" + str(extracted_content) + \"}\"\n",
    "    books_dict = eval(final_str)\n",
    "    print(books_dict)"
   ]
  },
  {
   "attachments": {},
   "cell_type": "markdown",
   "metadata": {},
   "source": [
    "### LIBGEN"
   ]
  },
  {
   "cell_type": "code",
   "execution_count": 3,
   "metadata": {},
   "outputs": [],
   "source": [
    "dummy_data = {'Mankiw': 'Principles of Economics', 'Romer': 'Advanced Macroeconomics', 'Krugman': 'Macroeconomics', 'Blanchard': 'Macroeconomics', 'Stiglitz': 'The Roaring Nineties'}"
   ]
  },
  {
   "cell_type": "code",
   "execution_count": 4,
   "metadata": {},
   "outputs": [],
   "source": [
    "libgen = LibgenSearch()"
   ]
  },
  {
   "cell_type": "code",
   "execution_count": 5,
   "metadata": {},
   "outputs": [
    {
     "data": {
      "text/plain": [
       "[{'ID': '26907',\n",
       "  'Author': 'Mankiw N.G.',\n",
       "  'Title': 'Ten principles of economics',\n",
       "  'Publisher': '',\n",
       "  'Year': '2004',\n",
       "  'Pages': '508',\n",
       "  'Language': 'English',\n",
       "  'Size': '4 Mb',\n",
       "  'Extension': 'pdf',\n",
       "  'Mirror_1': 'http://library.lol/main/3C867F5BBE7352C53DDA722D138D1820',\n",
       "  'Mirror_2': 'http://libgen.lc/ads.php?md5=3C867F5BBE7352C53DDA722D138D1820',\n",
       "  'Mirror_3': 'https://library.bz/main/edit/3C867F5BBE7352C53DDA722D138D1820'},\n",
       " {'ID': '79088',\n",
       "  'Author': 'Romer',\n",
       "  'Title': 'Advanced Macroeconomics',\n",
       "  'Publisher': '',\n",
       "  'Year': '',\n",
       "  'Pages': '550',\n",
       "  'Language': 'English',\n",
       "  'Size': '26 Mb',\n",
       "  'Extension': 'pdf',\n",
       "  'Mirror_1': 'http://library.lol/main/9CEC5187CF244D48F3EDAEF22CB97792',\n",
       "  'Mirror_2': 'http://libgen.lc/ads.php?md5=9CEC5187CF244D48F3EDAEF22CB97792',\n",
       "  'Mirror_3': 'https://library.bz/main/edit/9CEC5187CF244D48F3EDAEF22CB97792'},\n",
       " {'ID': '747980',\n",
       "  'Author': 'Paul Krugman,Robin Wells',\n",
       "  'Title': 'Macroeconomics',\n",
       "  'Publisher': 'Worth Publishers',\n",
       "  'Year': '2005',\n",
       "  'Pages': '576',\n",
       "  'Language': 'English',\n",
       "  'Size': '5 Mb',\n",
       "  'Extension': 'pdf',\n",
       "  'Mirror_1': 'http://library.lol/main/65A5D926EDCB93827ADC7FD86543E44C',\n",
       "  'Mirror_2': 'http://libgen.lc/ads.php?md5=65A5D926EDCB93827ADC7FD86543E44C',\n",
       "  'Mirror_3': 'https://library.bz/main/edit/65A5D926EDCB93827ADC7FD86543E44C'},\n",
       " {'ID': '353788',\n",
       "  'Author': 'Olivier Jean Blanchard,Stanley Fischer',\n",
       "  'Title': 'Lectures on Macroeconomics',\n",
       "  'Publisher': 'The MIT Press',\n",
       "  'Year': '1989',\n",
       "  'Pages': '660',\n",
       "  'Language': 'English',\n",
       "  'Size': '26 Mb',\n",
       "  'Extension': 'pdf',\n",
       "  'Mirror_1': 'http://library.lol/main/0D1475BEABA02AFD9695A76B4A06BAD0',\n",
       "  'Mirror_2': 'http://libgen.lc/ads.php?md5=0D1475BEABA02AFD9695A76B4A06BAD0',\n",
       "  'Mirror_3': 'https://library.bz/main/edit/0D1475BEABA02AFD9695A76B4A06BAD0'}]"
      ]
     },
     "execution_count": 5,
     "metadata": {},
     "output_type": "execute_result"
    }
   ],
   "source": [
    "filters = {\"Language\": \"English\", \"Extension\": \"pdf\"}\n",
    "metadata_list = []\n",
    "for k,v in dummy_data.items():\n",
    "    search_prompt = k + ' ' +  v\n",
    "    book_search = libgen.search_holistic_filtered(f\"{search_prompt}\", filters, exact_match=False)\n",
    "    if book_search:\n",
    "        metadata_list.append(book_search[0])\n",
    "\n",
    "metadata_list"
   ]
  },
  {
   "cell_type": "code",
   "execution_count": 6,
   "metadata": {},
   "outputs": [
    {
     "name": "stdout",
     "output_type": "stream",
     "text": [
      "meh\n",
      "meh\n"
     ]
    }
   ],
   "source": [
    "# FIXME!!!!!\n",
    "# turn links into downloadable links\n",
    "for i in metadata_list:\n",
    "    download_links = libgen.resolve_download_links(i)\n",
    "    try:\n",
    "        response = requests.get(next(iter(download_links.values())), stream=True)\n",
    "        if response.ok:\n",
    "            with open(\"test.zip\", mode=\"wb\") as file:\n",
    "                for chunk in response.iter_content(chunk_size=10 * 1024):\n",
    "                    file.write(chunk)\n",
    "        print(status)\n",
    "    except:\n",
    "        print('meh')\n"
   ]
  },
  {
   "cell_type": "code",
   "execution_count": null,
   "metadata": {},
   "outputs": [],
   "source": []
  },
  {
   "cell_type": "code",
   "execution_count": null,
   "metadata": {},
   "outputs": [],
   "source": []
  },
  {
   "cell_type": "code",
   "execution_count": null,
   "metadata": {},
   "outputs": [],
   "source": []
  },
  {
   "cell_type": "code",
   "execution_count": null,
   "metadata": {},
   "outputs": [],
   "source": []
  },
  {
   "cell_type": "code",
   "execution_count": null,
   "metadata": {},
   "outputs": [],
   "source": []
  },
  {
   "cell_type": "code",
   "execution_count": null,
   "metadata": {},
   "outputs": [],
   "source": [
    "# Correr proceso en terminal para realizar las descargas\n",
    "p = subprocess.run()"
   ]
  }
 ],
 "metadata": {
  "kernelspec": {
   "display_name": "base",
   "language": "python",
   "name": "python3"
  },
  "language_info": {
   "codemirror_mode": {
    "name": "ipython",
    "version": 3
   },
   "file_extension": ".py",
   "mimetype": "text/x-python",
   "name": "python",
   "nbconvert_exporter": "python",
   "pygments_lexer": "ipython3",
   "version": "3.11.4"
  },
  "orig_nbformat": 4
 },
 "nbformat": 4,
 "nbformat_minor": 2
}
