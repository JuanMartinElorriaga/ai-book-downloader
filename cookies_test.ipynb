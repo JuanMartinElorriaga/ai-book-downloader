{
 "cells": [
  {
   "cell_type": "code",
   "execution_count": 51,
   "metadata": {},
   "outputs": [
    {
     "ename": "WebDriverException",
     "evalue": "Message: unknown error: cannot connect to chrome at 127.0.0.1:64619\nfrom session not created: This version of ChromeDriver only supports Chrome version 114\nCurrent browser version is 116.0.5845.96\nStacktrace:\n0   undetected_chromedriver             0x00000001008386b8 undetected_chromedriver + 4937400\n1   undetected_chromedriver             0x000000010082fb73 undetected_chromedriver + 4901747\n2   undetected_chromedriver             0x00000001003ed616 undetected_chromedriver + 435734\n3   undetected_chromedriver             0x000000010041fd10 undetected_chromedriver + 642320\n4   undetected_chromedriver             0x0000000100416f98 undetected_chromedriver + 606104\n5   undetected_chromedriver             0x000000010045ea08 undetected_chromedriver + 899592\n6   undetected_chromedriver             0x000000010045debf undetected_chromedriver + 896703\n7   undetected_chromedriver             0x0000000100454de3 undetected_chromedriver + 859619\n8   undetected_chromedriver             0x0000000100422d7f undetected_chromedriver + 654719\n9   undetected_chromedriver             0x00000001004240de undetected_chromedriver + 659678\n10  undetected_chromedriver             0x00000001007f42ad undetected_chromedriver + 4657837\n11  undetected_chromedriver             0x00000001007f9130 undetected_chromedriver + 4677936\n12  undetected_chromedriver             0x00000001007ffdef undetected_chromedriver + 4705775\n13  undetected_chromedriver             0x00000001007fa05a undetected_chromedriver + 4681818\n14  undetected_chromedriver             0x00000001007cc92c undetected_chromedriver + 4495660\n15  undetected_chromedriver             0x0000000100817838 undetected_chromedriver + 4802616\n16  undetected_chromedriver             0x00000001008179b7 undetected_chromedriver + 4802999\n17  undetected_chromedriver             0x000000010082899f undetected_chromedriver + 4872607\n18  libsystem_pthread.dylib             0x00007ff8188671d3 _pthread_start + 125\n19  libsystem_pthread.dylib             0x00007ff818862bd3 thread_start + 15\n",
     "output_type": "error",
     "traceback": [
      "\u001b[0;31m---------------------------------------------------------------------------\u001b[0m",
      "\u001b[0;31mWebDriverException\u001b[0m                        Traceback (most recent call last)",
      "Cell \u001b[0;32mIn[51], line 35\u001b[0m\n\u001b[1;32m     29\u001b[0m chrome_options\u001b[39m.\u001b[39madd_argument(\u001b[39m\"\u001b[39m\u001b[39m--disable-dev-shm-usage\u001b[39m\u001b[39m\"\u001b[39m)\n\u001b[1;32m     30\u001b[0m \u001b[39m#chrome_options.add_argument(\"--headless=new\")\u001b[39;00m\n\u001b[1;32m     31\u001b[0m \u001b[39m#browser = selenium.webdriver.Chrome()\u001b[39;00m\n\u001b[1;32m     32\u001b[0m \u001b[39m#browser = uc.Chrome()\u001b[39;00m\n\u001b[1;32m     33\u001b[0m \u001b[39m#geckodriver_autoinstaller.install()\u001b[39;00m\n\u001b[1;32m     34\u001b[0m \u001b[39m#browser = selenium.webdriver.Firefox()\u001b[39;00m\n\u001b[0;32m---> 35\u001b[0m browser \u001b[39m=\u001b[39m uc\u001b[39m.\u001b[39;49mChrome(options\u001b[39m=\u001b[39;49mchrome_options, version_main\u001b[39m=\u001b[39;49m\u001b[39m114\u001b[39;49m)\n\u001b[1;32m     36\u001b[0m browser\u001b[39m.\u001b[39mdelete_all_cookies()\n\u001b[1;32m     38\u001b[0m browser\u001b[39m.\u001b[39mget(\u001b[39m'\u001b[39m\u001b[39mhttps://bard.google.com/?hl=en\u001b[39m\u001b[39m'\u001b[39m)\n",
      "File \u001b[0;32m~/.local/share/virtualenvs/ai-book-downloader-UvFuf6cO/lib/python3.11/site-packages/undetected_chromedriver/__init__.py:466\u001b[0m, in \u001b[0;36mChrome.__init__\u001b[0;34m(self, options, user_data_dir, driver_executable_path, browser_executable_path, port, enable_cdp_events, desired_capabilities, advanced_elements, keep_alive, log_level, headless, version_main, patcher_force_close, suppress_welcome, use_subprocess, debug, no_sandbox, user_multi_procs, **kw)\u001b[0m\n\u001b[1;32m    459\u001b[0m     \u001b[39mself\u001b[39m\u001b[39m.\u001b[39mbrowser_pid \u001b[39m=\u001b[39m browser\u001b[39m.\u001b[39mpid\n\u001b[1;32m    462\u001b[0m service \u001b[39m=\u001b[39m selenium\u001b[39m.\u001b[39mwebdriver\u001b[39m.\u001b[39mchromium\u001b[39m.\u001b[39mservice\u001b[39m.\u001b[39mChromiumService(\n\u001b[1;32m    463\u001b[0m     \u001b[39mself\u001b[39m\u001b[39m.\u001b[39mpatcher\u001b[39m.\u001b[39mexecutable_path\n\u001b[1;32m    464\u001b[0m )\n\u001b[0;32m--> 466\u001b[0m \u001b[39msuper\u001b[39;49m(Chrome, \u001b[39mself\u001b[39;49m)\u001b[39m.\u001b[39;49m\u001b[39m__init__\u001b[39;49m(\n\u001b[1;32m    467\u001b[0m     service\u001b[39m=\u001b[39;49mservice,\n\u001b[1;32m    468\u001b[0m     options\u001b[39m=\u001b[39;49moptions,\n\u001b[1;32m    469\u001b[0m     keep_alive\u001b[39m=\u001b[39;49mkeep_alive,\n\u001b[1;32m    470\u001b[0m )\n\u001b[1;32m    472\u001b[0m \u001b[39mself\u001b[39m\u001b[39m.\u001b[39mreactor \u001b[39m=\u001b[39m \u001b[39mNone\u001b[39;00m\n\u001b[1;32m    474\u001b[0m \u001b[39mif\u001b[39;00m enable_cdp_events:\n",
      "File \u001b[0;32m~/.local/share/virtualenvs/ai-book-downloader-UvFuf6cO/lib/python3.11/site-packages/selenium/webdriver/chrome/webdriver.py:45\u001b[0m, in \u001b[0;36mWebDriver.__init__\u001b[0;34m(self, options, service, keep_alive)\u001b[0m\n\u001b[1;32m     42\u001b[0m service \u001b[39m=\u001b[39m service \u001b[39mif\u001b[39;00m service \u001b[39melse\u001b[39;00m Service()\n\u001b[1;32m     43\u001b[0m options \u001b[39m=\u001b[39m options \u001b[39mif\u001b[39;00m options \u001b[39melse\u001b[39;00m Options()\n\u001b[0;32m---> 45\u001b[0m \u001b[39msuper\u001b[39;49m()\u001b[39m.\u001b[39;49m\u001b[39m__init__\u001b[39;49m(\n\u001b[1;32m     46\u001b[0m     DesiredCapabilities\u001b[39m.\u001b[39;49mCHROME[\u001b[39m\"\u001b[39;49m\u001b[39mbrowserName\u001b[39;49m\u001b[39m\"\u001b[39;49m],\n\u001b[1;32m     47\u001b[0m     \u001b[39m\"\u001b[39;49m\u001b[39mgoog\u001b[39;49m\u001b[39m\"\u001b[39;49m,\n\u001b[1;32m     48\u001b[0m     options,\n\u001b[1;32m     49\u001b[0m     service,\n\u001b[1;32m     50\u001b[0m     keep_alive,\n\u001b[1;32m     51\u001b[0m )\n",
      "File \u001b[0;32m~/.local/share/virtualenvs/ai-book-downloader-UvFuf6cO/lib/python3.11/site-packages/selenium/webdriver/chromium/webdriver.py:56\u001b[0m, in \u001b[0;36mChromiumDriver.__init__\u001b[0;34m(self, browser_name, vendor_prefix, options, service, keep_alive)\u001b[0m\n\u001b[1;32m     53\u001b[0m \u001b[39mself\u001b[39m\u001b[39m.\u001b[39mservice\u001b[39m.\u001b[39mstart()\n\u001b[1;32m     55\u001b[0m \u001b[39mtry\u001b[39;00m:\n\u001b[0;32m---> 56\u001b[0m     \u001b[39msuper\u001b[39;49m()\u001b[39m.\u001b[39;49m\u001b[39m__init__\u001b[39;49m(\n\u001b[1;32m     57\u001b[0m         command_executor\u001b[39m=\u001b[39;49mChromiumRemoteConnection(\n\u001b[1;32m     58\u001b[0m             remote_server_addr\u001b[39m=\u001b[39;49m\u001b[39mself\u001b[39;49m\u001b[39m.\u001b[39;49mservice\u001b[39m.\u001b[39;49mservice_url,\n\u001b[1;32m     59\u001b[0m             browser_name\u001b[39m=\u001b[39;49mbrowser_name,\n\u001b[1;32m     60\u001b[0m             vendor_prefix\u001b[39m=\u001b[39;49mvendor_prefix,\n\u001b[1;32m     61\u001b[0m             keep_alive\u001b[39m=\u001b[39;49mkeep_alive,\n\u001b[1;32m     62\u001b[0m             ignore_proxy\u001b[39m=\u001b[39;49moptions\u001b[39m.\u001b[39;49m_ignore_local_proxy,\n\u001b[1;32m     63\u001b[0m         ),\n\u001b[1;32m     64\u001b[0m         options\u001b[39m=\u001b[39;49moptions,\n\u001b[1;32m     65\u001b[0m     )\n\u001b[1;32m     66\u001b[0m \u001b[39mexcept\u001b[39;00m \u001b[39mException\u001b[39;00m:\n\u001b[1;32m     67\u001b[0m     \u001b[39mself\u001b[39m\u001b[39m.\u001b[39mquit()\n",
      "File \u001b[0;32m~/.local/share/virtualenvs/ai-book-downloader-UvFuf6cO/lib/python3.11/site-packages/selenium/webdriver/remote/webdriver.py:206\u001b[0m, in \u001b[0;36mWebDriver.__init__\u001b[0;34m(self, command_executor, keep_alive, file_detector, options)\u001b[0m\n\u001b[1;32m    204\u001b[0m \u001b[39mself\u001b[39m\u001b[39m.\u001b[39m_authenticator_id \u001b[39m=\u001b[39m \u001b[39mNone\u001b[39;00m\n\u001b[1;32m    205\u001b[0m \u001b[39mself\u001b[39m\u001b[39m.\u001b[39mstart_client()\n\u001b[0;32m--> 206\u001b[0m \u001b[39mself\u001b[39;49m\u001b[39m.\u001b[39;49mstart_session(capabilities)\n",
      "File \u001b[0;32m~/.local/share/virtualenvs/ai-book-downloader-UvFuf6cO/lib/python3.11/site-packages/undetected_chromedriver/__init__.py:724\u001b[0m, in \u001b[0;36mChrome.start_session\u001b[0;34m(self, capabilities, browser_profile)\u001b[0m\n\u001b[1;32m    722\u001b[0m \u001b[39mif\u001b[39;00m \u001b[39mnot\u001b[39;00m capabilities:\n\u001b[1;32m    723\u001b[0m     capabilities \u001b[39m=\u001b[39m \u001b[39mself\u001b[39m\u001b[39m.\u001b[39moptions\u001b[39m.\u001b[39mto_capabilities()\n\u001b[0;32m--> 724\u001b[0m \u001b[39msuper\u001b[39;49m(selenium\u001b[39m.\u001b[39;49mwebdriver\u001b[39m.\u001b[39;49mchrome\u001b[39m.\u001b[39;49mwebdriver\u001b[39m.\u001b[39;49mWebDriver, \u001b[39mself\u001b[39;49m)\u001b[39m.\u001b[39;49mstart_session(\n\u001b[1;32m    725\u001b[0m     capabilities\n\u001b[1;32m    726\u001b[0m )\n",
      "File \u001b[0;32m~/.local/share/virtualenvs/ai-book-downloader-UvFuf6cO/lib/python3.11/site-packages/selenium/webdriver/remote/webdriver.py:290\u001b[0m, in \u001b[0;36mWebDriver.start_session\u001b[0;34m(self, capabilities)\u001b[0m\n\u001b[1;32m    283\u001b[0m \u001b[39m\u001b[39m\u001b[39m\"\"\"Creates a new session with the desired capabilities.\u001b[39;00m\n\u001b[1;32m    284\u001b[0m \n\u001b[1;32m    285\u001b[0m \u001b[39m:Args:\u001b[39;00m\n\u001b[1;32m    286\u001b[0m \u001b[39m - capabilities - a capabilities dict to start the session with.\u001b[39;00m\n\u001b[1;32m    287\u001b[0m \u001b[39m\"\"\"\u001b[39;00m\n\u001b[1;32m    289\u001b[0m caps \u001b[39m=\u001b[39m _create_caps(capabilities)\n\u001b[0;32m--> 290\u001b[0m response \u001b[39m=\u001b[39m \u001b[39mself\u001b[39;49m\u001b[39m.\u001b[39;49mexecute(Command\u001b[39m.\u001b[39;49mNEW_SESSION, caps)[\u001b[39m\"\u001b[39m\u001b[39mvalue\u001b[39m\u001b[39m\"\u001b[39m]\n\u001b[1;32m    291\u001b[0m \u001b[39mself\u001b[39m\u001b[39m.\u001b[39msession_id \u001b[39m=\u001b[39m response\u001b[39m.\u001b[39mget(\u001b[39m\"\u001b[39m\u001b[39msessionId\u001b[39m\u001b[39m\"\u001b[39m)\n\u001b[1;32m    292\u001b[0m \u001b[39mself\u001b[39m\u001b[39m.\u001b[39mcaps \u001b[39m=\u001b[39m response\u001b[39m.\u001b[39mget(\u001b[39m\"\u001b[39m\u001b[39mcapabilities\u001b[39m\u001b[39m\"\u001b[39m)\n",
      "File \u001b[0;32m~/.local/share/virtualenvs/ai-book-downloader-UvFuf6cO/lib/python3.11/site-packages/selenium/webdriver/remote/webdriver.py:345\u001b[0m, in \u001b[0;36mWebDriver.execute\u001b[0;34m(self, driver_command, params)\u001b[0m\n\u001b[1;32m    343\u001b[0m response \u001b[39m=\u001b[39m \u001b[39mself\u001b[39m\u001b[39m.\u001b[39mcommand_executor\u001b[39m.\u001b[39mexecute(driver_command, params)\n\u001b[1;32m    344\u001b[0m \u001b[39mif\u001b[39;00m response:\n\u001b[0;32m--> 345\u001b[0m     \u001b[39mself\u001b[39;49m\u001b[39m.\u001b[39;49merror_handler\u001b[39m.\u001b[39;49mcheck_response(response)\n\u001b[1;32m    346\u001b[0m     response[\u001b[39m\"\u001b[39m\u001b[39mvalue\u001b[39m\u001b[39m\"\u001b[39m] \u001b[39m=\u001b[39m \u001b[39mself\u001b[39m\u001b[39m.\u001b[39m_unwrap_value(response\u001b[39m.\u001b[39mget(\u001b[39m\"\u001b[39m\u001b[39mvalue\u001b[39m\u001b[39m\"\u001b[39m, \u001b[39mNone\u001b[39;00m))\n\u001b[1;32m    347\u001b[0m     \u001b[39mreturn\u001b[39;00m response\n",
      "File \u001b[0;32m~/.local/share/virtualenvs/ai-book-downloader-UvFuf6cO/lib/python3.11/site-packages/selenium/webdriver/remote/errorhandler.py:229\u001b[0m, in \u001b[0;36mErrorHandler.check_response\u001b[0;34m(self, response)\u001b[0m\n\u001b[1;32m    227\u001b[0m         alert_text \u001b[39m=\u001b[39m value[\u001b[39m\"\u001b[39m\u001b[39malert\u001b[39m\u001b[39m\"\u001b[39m]\u001b[39m.\u001b[39mget(\u001b[39m\"\u001b[39m\u001b[39mtext\u001b[39m\u001b[39m\"\u001b[39m)\n\u001b[1;32m    228\u001b[0m     \u001b[39mraise\u001b[39;00m exception_class(message, screen, stacktrace, alert_text)  \u001b[39m# type: ignore[call-arg]  # mypy is not smart enough here\u001b[39;00m\n\u001b[0;32m--> 229\u001b[0m \u001b[39mraise\u001b[39;00m exception_class(message, screen, stacktrace)\n",
      "\u001b[0;31mWebDriverException\u001b[0m: Message: unknown error: cannot connect to chrome at 127.0.0.1:64619\nfrom session not created: This version of ChromeDriver only supports Chrome version 114\nCurrent browser version is 116.0.5845.96\nStacktrace:\n0   undetected_chromedriver             0x00000001008386b8 undetected_chromedriver + 4937400\n1   undetected_chromedriver             0x000000010082fb73 undetected_chromedriver + 4901747\n2   undetected_chromedriver             0x00000001003ed616 undetected_chromedriver + 435734\n3   undetected_chromedriver             0x000000010041fd10 undetected_chromedriver + 642320\n4   undetected_chromedriver             0x0000000100416f98 undetected_chromedriver + 606104\n5   undetected_chromedriver             0x000000010045ea08 undetected_chromedriver + 899592\n6   undetected_chromedriver             0x000000010045debf undetected_chromedriver + 896703\n7   undetected_chromedriver             0x0000000100454de3 undetected_chromedriver + 859619\n8   undetected_chromedriver             0x0000000100422d7f undetected_chromedriver + 654719\n9   undetected_chromedriver             0x00000001004240de undetected_chromedriver + 659678\n10  undetected_chromedriver             0x00000001007f42ad undetected_chromedriver + 4657837\n11  undetected_chromedriver             0x00000001007f9130 undetected_chromedriver + 4677936\n12  undetected_chromedriver             0x00000001007ffdef undetected_chromedriver + 4705775\n13  undetected_chromedriver             0x00000001007fa05a undetected_chromedriver + 4681818\n14  undetected_chromedriver             0x00000001007cc92c undetected_chromedriver + 4495660\n15  undetected_chromedriver             0x0000000100817838 undetected_chromedriver + 4802616\n16  undetected_chromedriver             0x00000001008179b7 undetected_chromedriver + 4802999\n17  undetected_chromedriver             0x000000010082899f undetected_chromedriver + 4872607\n18  libsystem_pthread.dylib             0x00007ff8188671d3 _pthread_start + 125\n19  libsystem_pthread.dylib             0x00007ff818862bd3 thread_start + 15\n"
     ]
    }
   ],
   "source": [
    "#import geckodriver_autoinstaller\n",
    "import undetected_chromedriver as uc\n",
    "#import pickle\n",
    "#import time\n",
    "import selenium.webdriver\n",
    "from selenium.webdriver.common.by import By\n",
    "from selenium.webdriver.common.keys import Keys\n",
    "from selenium.webdriver.support.ui import WebDriverWait\n",
    "from selenium.webdriver.support import expected_conditions as EC\n",
    "import os\n",
    "from dotenv import load_dotenv\n",
    "load_dotenv()\n",
    "BARD_TOKEN = os.getenv('BARD_TOKEN')\n",
    "GOOGLE_USER = os.getenv('GOOGLE_USER')\n",
    "GOOGLE_PASSWORD = os.getenv('GOOGLE_PASSWORD')\n",
    "\n",
    "# Bard login\n",
    "chrome_options = uc.ChromeOptions()\n",
    "chrome_options.add_argument(\"--disable-extensions\")\n",
    "chrome_options.add_argument(\"--disable-plugins-discovery\")\n",
    "chrome_options.add_argument('--disable-application-cache')\n",
    "chrome_options.add_argument('--disable-gpu')\n",
    "chrome_options.add_argument(\"user_agent=DN\")\n",
    "chrome_options.add_argument(\"--profile-directory=Default\")\n",
    "chrome_options.add_argument(\"--incognito\")\n",
    "chrome_options.add_argument(\"--disable-popup-blocking\")\n",
    "chrome_options.add_argument(\"--no-sandbox\")\n",
    "chrome_options.add_argument(\"--disable-setuid-sandbox\")\n",
    "chrome_options.add_argument(\"--disable-dev-shm-usage\")\n",
    "#chrome_options.add_argument(\"--headless=new\")\n",
    "#browser = selenium.webdriver.Chrome()\n",
    "#browser = uc.Chrome()\n",
    "#geckodriver_autoinstaller.install()\n",
    "#browser = selenium.webdriver.Firefox()\n",
    "browser = uc.Chrome(options=chrome_options, version_main=114)\n",
    "browser.delete_all_cookies()\n",
    "\n",
    "browser.get('https://bard.google.com/?hl=en')\n",
    "#cookies = browser.get_cookies()\n",
    "\n",
    "#sign_in_buttom = browser.find_element(By.XPATH, \"/html/body/chat-app/side-navigation/mat-sidenav-container/mat-sidenav-content/main/welcome-window/div/div/div/div[2]/button/span[2]/span\")\n",
    "#sign_in_buttom.click()\n",
    "#WebDriverWait(browser, 10).until(EC.visibility_of_element_located((By.ID, \"identifierId\"))).send_keys(GOOGLE_USER)\n",
    "\n",
    "#next_button = browser.find_element(By.ID, \"identifierNext\")\n",
    "#next_button.click()\n",
    "\n",
    "#WebDriverWait(driver, 10).until(EC.visibility_of_element_located((By.ID, \"password\")))\n",
    "\n",
    "# Find the password input field and enter the password.\n",
    "#password_input = driver.find_element(\"password\")\n",
    "#password_input.send_keys(password)\n",
    "\n",
    "#sign_in_button.click()\n",
    "\n",
    "#WebDriverWait(driver, 10).until(EC.title_is(\"Gmail\"))\n",
    "\n",
    "#pickle.dump(cookies, open(\"cookies.pkl\",\"wb\"))\n",
    "#cookies"
   ]
  }
 ],
 "metadata": {
  "kernelspec": {
   "display_name": "ai-book-downloader-UvFuf6cO",
   "language": "python",
   "name": "python3"
  },
  "language_info": {
   "codemirror_mode": {
    "name": "ipython",
    "version": 3
   },
   "file_extension": ".py",
   "mimetype": "text/x-python",
   "name": "python",
   "nbconvert_exporter": "python",
   "pygments_lexer": "ipython3",
   "version": "3.11.4"
  },
  "orig_nbformat": 4
 },
 "nbformat": 4,
 "nbformat_minor": 2
}
