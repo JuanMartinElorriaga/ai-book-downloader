{
 "cells": [
  {
   "cell_type": "code",
   "execution_count": 1,
   "metadata": {},
   "outputs": [],
   "source": [
    "from fuzzywuzzy import fuzz\n",
    "from libgenparser.parser import LibgenParser\n",
    "libgen = LibgenParser()"
   ]
  },
  {
   "cell_type": "code",
   "execution_count": 2,
   "metadata": {},
   "outputs": [
    {
     "data": {
      "text/plain": [
       "25"
      ]
     },
     "execution_count": 2,
     "metadata": {},
     "output_type": "execute_result"
    }
   ],
   "source": [
    "# Raw search\n",
    "books = libgen.search_author(\"Marcus Aurelius\")\n",
    "len(books)"
   ]
  },
  {
   "cell_type": "code",
   "execution_count": 3,
   "metadata": {},
   "outputs": [
    {
     "data": {
      "text/plain": [
       "21"
      ]
     },
     "execution_count": 3,
     "metadata": {},
     "output_type": "execute_result"
    }
   ],
   "source": [
    "# Filtro de lenguaje (English y Spanish) y extension (epub, pdf, mobi)\n",
    "books_filtered = [d for d in books if d['Language'] in ['English', 'Spanish'] and d['Extension'] in ['pdf', 'epub', 'mobi']]\n",
    "len(books_filtered)"
   ]
  },
  {
   "cell_type": "code",
   "execution_count": 4,
   "metadata": {},
   "outputs": [
    {
     "name": "stdout",
     "output_type": "stream",
     "text": [
      "{'Thumb': 'http://libgen.rs/covers/359000/D66190381CF9FD46CF56735AF1348EC6-g.jpg', 'Download_link': 'http://libgen.rs/get?&md5=D66190381CF9FD46CF56735AF1348EC6', 'MD5': 'D66190381CF9FD46CF56735AF1348EC6', 'Title': 'Meditations', 'Author': 'Marcus Aurelius', 'Year': None, 'Language': 'English', 'Pages': None, 'ID': '359874', 'Size': '357 Kb (365936)', 'Extension': 'epub'}\n",
      "{'Thumb': 'http://libgen.rs/covers/359000/d970445ca4d558e8f7f7157c0dcd7e83-g.jpg', 'Download_link': 'http://libgen.rs/get?&md5=D970445CA4D558E8F7F7157C0DCD7E83', 'MD5': 'D970445CA4D558E8F7F7157C0DCD7E83', 'Title': 'Meditations', 'Author': 'Marcus Aurelius', 'Year': None, 'Language': 'English', 'Pages': '16', 'ID': '359875', 'Size': '118 Kb (120991)', 'Extension': 'pdf'}\n",
      "{'Thumb': 'http://libgen.rs/covers/359000/1569AB2401F57CCA752831C05E216D7F-g.jpg', 'Download_link': 'http://libgen.rs/get?&md5=1569AB2401F57CCA752831C05E216D7F', 'MD5': '1569AB2401F57CCA752831C05E216D7F', 'Title': 'Selbstbetrachtungen', 'Author': 'Marcus Aurelius', 'Year': None, 'Language': 'English', 'Pages': None, 'ID': '359877', 'Size': '130 Kb (133411)', 'Extension': 'epub'}\n",
      "{'Thumb': 'http://libgen.rs/covers/359000/B3D6FCF13ECD4D4C6E26DB2E387620BC-g.jpg', 'Download_link': 'http://libgen.rs/get?&md5=B3D6FCF13ECD4D4C6E26DB2E387620BC', 'MD5': 'B3D6FCF13ECD4D4C6E26DB2E387620BC', 'Title': 'Thoughts', 'Author': 'Marcus Aurelius', 'Year': None, 'Language': 'English', 'Pages': None, 'ID': '359878', 'Size': '143 Kb (146879)', 'Extension': 'epub'}\n",
      "{'Thumb': 'http://libgen.rs/covers/760000/9a995243cf72df401abbc5bb538c2dc5-g.jpg', 'Download_link': 'http://libgen.rs/get?&md5=9A995243CF72DF401ABBC5BB538C2DC5', 'MD5': '9A995243CF72DF401ABBC5BB538C2DC5', 'Title': 'Marcus Aurelius and His Times. The Transition from Paganism to Christianity  ', 'Author': 'Marcus Aurelius', 'Year': '1945', 'Language': 'English', 'Pages': '310', 'ID': '760935', 'Size': '3 Mb (3376122)', 'Extension': 'pdf'}\n",
      "{'Thumb': 'http://libgen.rs/covers/1352000/13984dd2b2ecf240df27c48f9af8baa6-d.jpg', 'Download_link': 'http://libgen.rs/get?&md5=13984DD2B2ECF240DF27C48F9AF8BAA6', 'MD5': '13984DD2B2ECF240DF27C48F9AF8BAA6', 'Title': 'The Meditations', 'Author': 'Marcus Aurelius', 'Year': '2003', 'Language': 'English', 'Pages': '256', 'ID': '1352390', 'Size': '331 Kb (339185)', 'Extension': 'mobi'}\n",
      "{'Thumb': 'http://libgen.rs/covers/2416000/ba050125c4af5bc9fff1db39c44161a9-g.jpg', 'Download_link': 'http://libgen.rs/get?&md5=BA050125C4AF5BC9FFF1DB39C44161A9', 'MD5': 'BA050125C4AF5BC9FFF1DB39C44161A9', 'Title': 'Marcus Aurelius: A Guide for the Perplexed', 'Author': 'Emperor of Rome Marcus Aurelius', 'Year': '2011', 'Language': 'English', 'Pages': '208', 'ID': '2416003', 'Size': '523 Kb (535972)', 'Extension': 'epub'}\n"
     ]
    }
   ],
   "source": [
    "# Filtro de duplicados en titulo, extension y lenguaje\n",
    "# fuzzy string matching using Levenshtein distance (threshold = 80)\n",
    "\n",
    "books_filtered_unique = [books_filtered[0]]  # Adding the first dictionary directly\n",
    "\n",
    "# Function to check if two dictionaries have matching language and extension\n",
    "def has_matching_language_extension(dict1, dict2):\n",
    "    return dict1['Language'] == dict2['Language'] and dict1['Extension'] == dict2['Extension']\n",
    "\n",
    "# Function to check if a dictionary is similar to existing dictionaries\n",
    "def is_similar_dict(new_dict, existing_dicts):\n",
    "    for d in existing_dicts:\n",
    "        if has_matching_language_extension(new_dict, d) and fuzz.token_set_ratio(new_dict['Title'].lower(), d['Title'].lower()) > 80:\n",
    "            return True\n",
    "    return False\n",
    "\n",
    "# Iterate through the remaining dictionaries in the original list\n",
    "for d in books_filtered[1:]:\n",
    "    if not is_similar_dict(d, books_filtered_unique):\n",
    "        books_filtered_unique.append(d)\n",
    "\n",
    "# Print the filtered dictionary list\n",
    "for d in books_filtered_unique:\n",
    "    print(d)\n"
   ]
  },
  {
   "cell_type": "code",
   "execution_count": 5,
   "metadata": {},
   "outputs": [
    {
     "data": {
      "text/plain": [
       "['https://cloudflare-ipfs.com/ipfs/bafykbzacecda3pjf527oggxravhumsy7rrzteszg6j2lximxuipvdkvu5fcbs?filename=Marcus%20Aurelius%20-%20Meditations.epub',\n",
       " 'https://cloudflare-ipfs.com/ipfs/bafk2bzacedefgkn47ojdljq7aj7ues2wdp5fxzxyma6ivxlauaahs537ls6uc?filename=Marcus%20Aurelius%20-%20Meditations.pdf',\n",
       " 'https://cloudflare-ipfs.com/ipfs/bafk2bzaceamg6mqbnh5cll7rqikmqyadphe6v3v5nojh73qpi7qzqsicu2rxe?filename=Marcus%20Aurelius%20-%20Selbstbetrachtungen.epub',\n",
       " 'https://cloudflare-ipfs.com/ipfs/bafk2bzacedx6aw3izvscviddbll57izbkmravsj3wq3jxi4ttmryozol5n4xy?filename=Marcus%20Aurelius%20-%20Thoughts.epub',\n",
       " 'https://cloudflare-ipfs.com/ipfs/bafykbzacecsrxmuv5gwot3u7ssa4qtpzksxdubgpmeecgck4jxakhlszz5p4i?filename=Marcus%20Aurelius_%20Lucian_%20Justin%20Martyr_%20Walter%20Pater%20-%20Marcus%20Aurelius%20and%20His%20Times.%20The%20Transition%20from%20Paganism%20to%20Christianity%20%20-Pub.%20for%20the%20Classics%20Club%20by%20W.%20J.%20Black%20%281945%29.pdf',\n",
       " 'https://cloudflare-ipfs.com/ipfs/bafykbzaceabuysjzxf3jb3etsfjeihufm6g3hnfwf34hvmmswoey5x6wamff4?filename=Marcus%20Aurelius%2C%20Gregory%20Hays%20-%20The%20Meditations-Modern%20Library%20%282003%29.mobi',\n",
       " 'https://cloudflare-ipfs.com/ipfs/bafykbzacebqj4qd2bjsk77hettpjlxjpldiunwm3yadz64c2srsb2q2gmddtk?filename=%28Guides%20for%20the%20perplexed%29%20Emperor%20of%20Rome%20Marcus%20Aurelius_%20Stephens%2C%20William%20O%20-%20Marcus%20Aurelius_%20A%20Guide%20for%20the%20Perplexed-Continuum%20UK%20%282011%29.epub']"
      ]
     },
     "execution_count": 5,
     "metadata": {},
     "output_type": "execute_result"
    }
   ],
   "source": [
    "# GET downloadable links\n",
    "download_urls = [libgen.resolve_download_link(md5=books_filtered_unique[i]['MD5']) for i in range(len(books_filtered_unique))]\n",
    "download_urls"
   ]
  },
  {
   "cell_type": "code",
   "execution_count": null,
   "metadata": {},
   "outputs": [],
   "source": []
  },
  {
   "cell_type": "code",
   "execution_count": null,
   "metadata": {},
   "outputs": [],
   "source": []
  },
  {
   "cell_type": "code",
   "execution_count": null,
   "metadata": {},
   "outputs": [],
   "source": []
  },
  {
   "cell_type": "code",
   "execution_count": null,
   "metadata": {},
   "outputs": [],
   "source": []
  },
  {
   "cell_type": "code",
   "execution_count": null,
   "metadata": {},
   "outputs": [],
   "source": []
  },
  {
   "cell_type": "code",
   "execution_count": null,
   "metadata": {},
   "outputs": [],
   "source": []
  },
  {
   "cell_type": "code",
   "execution_count": null,
   "metadata": {},
   "outputs": [],
   "source": []
  },
  {
   "cell_type": "code",
   "execution_count": null,
   "metadata": {},
   "outputs": [],
   "source": []
  },
  {
   "cell_type": "code",
   "execution_count": null,
   "metadata": {},
   "outputs": [],
   "source": []
  },
  {
   "cell_type": "code",
   "execution_count": null,
   "metadata": {},
   "outputs": [],
   "source": []
  }
 ],
 "metadata": {
  "kernelspec": {
   "display_name": "ai-book-downloader-UvFuf6cO",
   "language": "python",
   "name": "python3"
  },
  "language_info": {
   "codemirror_mode": {
    "name": "ipython",
    "version": 3
   },
   "file_extension": ".py",
   "mimetype": "text/x-python",
   "name": "python",
   "nbconvert_exporter": "python",
   "pygments_lexer": "ipython3",
   "version": "3.11.4"
  },
  "orig_nbformat": 4
 },
 "nbformat": 4,
 "nbformat_minor": 2
}
