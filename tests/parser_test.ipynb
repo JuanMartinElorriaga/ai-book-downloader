{
 "cells": [
  {
   "cell_type": "code",
   "execution_count": 18,
   "metadata": {},
   "outputs": [],
   "source": [
    "from fuzzywuzzy import fuzz\n",
    "from libgenparser.parser import LibgenParser\n",
    "libgen = LibgenParser()"
   ]
  },
  {
   "cell_type": "code",
   "execution_count": 29,
   "metadata": {},
   "outputs": [
    {
     "data": {
      "text/plain": [
       "25"
      ]
     },
     "execution_count": 29,
     "metadata": {},
     "output_type": "execute_result"
    }
   ],
   "source": [
    "# Raw search\n",
    "books = libgen.search_author(\"Marcus Aurelius\")\n",
    "len(books)"
   ]
  },
  {
   "cell_type": "code",
   "execution_count": 20,
   "metadata": {},
   "outputs": [
    {
     "data": {
      "text/plain": [
       "21"
      ]
     },
     "execution_count": 20,
     "metadata": {},
     "output_type": "execute_result"
    }
   ],
   "source": [
    "# Filtro de lenguaje y extension\n",
    "books_filtered = [d for d in search_result if d['Language'] in ['English', 'Spanish'] and d['Extension'] in ['pdf', 'epub', 'mobi']]\n",
    "len(books_filtered)"
   ]
  },
  {
   "cell_type": "code",
   "execution_count": 57,
   "metadata": {},
   "outputs": [
    {
     "name": "stdout",
     "output_type": "stream",
     "text": [
      "('Meditations', 'English', 'epub')\n"
     ]
    },
    {
     "ename": "KeyError",
     "evalue": "('Meditations', 'English', 'epub')",
     "output_type": "error",
     "traceback": [
      "\u001b[0;31m---------------------------------------------------------------------------\u001b[0m",
      "\u001b[0;31mKeyError\u001b[0m                                  Traceback (most recent call last)",
      "Cell \u001b[0;32mIn[57], line 11\u001b[0m\n\u001b[1;32m      8\u001b[0m \u001b[39mprint\u001b[39m(key)\n\u001b[1;32m     10\u001b[0m \u001b[39m# Check if a book with the same key exists\u001b[39;00m\n\u001b[0;32m---> 11\u001b[0m existing_book \u001b[39m=\u001b[39m unique_books[key]\n\u001b[1;32m     13\u001b[0m \u001b[39m# Compare titles if extension and language match\u001b[39;00m\n\u001b[1;32m     14\u001b[0m \u001b[39mif\u001b[39;00m existing_book[\u001b[39m'\u001b[39m\u001b[39mExtension\u001b[39m\u001b[39m'\u001b[39m] \u001b[39m==\u001b[39m book[\u001b[39m'\u001b[39m\u001b[39mExtension\u001b[39m\u001b[39m'\u001b[39m] \u001b[39mand\u001b[39;00m existing_book[\u001b[39m'\u001b[39m\u001b[39mLanguage\u001b[39m\u001b[39m'\u001b[39m] \u001b[39m==\u001b[39m book[\u001b[39m'\u001b[39m\u001b[39mLanguage\u001b[39m\u001b[39m'\u001b[39m]:\n\u001b[1;32m     15\u001b[0m     \u001b[39m#print(f\"{existing_book['Title']} is similar to {existing_book['Title']}\")\u001b[39;00m\n",
      "\u001b[0;31mKeyError\u001b[0m: ('Meditations', 'English', 'epub')"
     ]
    }
   ],
   "source": [
    "# Filtro de duplicados en titulo, extension y lenguaje\n",
    "# fuzzy string matching using Levenshtein distance (threshold = 80)\n",
    "\n",
    "# Filtro de duplicados en titulo, extension y lenguaje\n",
    "# fuzzy string matching using Levenshtein distance (threshold = 80)\n",
    "\n",
    "unique_books = {}\n",
    "\n",
    "for book in books_filtered:\n",
    "    key = (book['Title'], book['Language'], book['Extension'])\n",
    "    print(key)\n",
    "\n",
    "    # Check if a book with the same key exists\n",
    "    if key in unique_books:\n",
    "        existing_book = unique_books[key]\n",
    "\n",
    "        # Compare titles if extension and language match\n",
    "        if existing_book['Extension'] == book['Extension'] and existing_book['Language'] == book['Language']:\n",
    "            print(f\"{existing_book['Title']} is similar to {existing_book['Title']}\")\n",
    "            similarity_score = fuzz.token_set_ratio(existing_book['Title'], book['Title'])\n",
    "            if similarity_score >= 80:\n",
    "                # Keep the existing book (higher similarity) and discard the current book\n",
    "                continue\n",
    "    else:\n",
    "        unique_books[key] = book\n",
    "\n",
    "result = list(unique_books.values())\n",
    "len(result)"
   ]
  },
  {
   "cell_type": "code",
   "execution_count": null,
   "metadata": {},
   "outputs": [],
   "source": []
  },
  {
   "cell_type": "code",
   "execution_count": 61,
   "metadata": {},
   "outputs": [
    {
     "data": {
      "text/plain": [
       "[{'Thumb': 'http://libgen.rs/covers/359000/D66190381CF9FD46CF56735AF1348EC6-g.jpg',\n",
       "  'Download_link': 'http://libgen.rs/get?&md5=D66190381CF9FD46CF56735AF1348EC6',\n",
       "  'MD5': 'D66190381CF9FD46CF56735AF1348EC6',\n",
       "  'Title': 'Meditations',\n",
       "  'Author': 'Marcus Aurelius',\n",
       "  'Year': None,\n",
       "  'Language': 'English',\n",
       "  'Pages': None,\n",
       "  'ID': '359874',\n",
       "  'Size': '357 Kb (365936)',\n",
       "  'Extension': 'epub'},\n",
       " {'Thumb': 'http://libgen.rs/covers/359000/d970445ca4d558e8f7f7157c0dcd7e83-g.jpg',\n",
       "  'Download_link': 'http://libgen.rs/get?&md5=D970445CA4D558E8F7F7157C0DCD7E83',\n",
       "  'MD5': 'D970445CA4D558E8F7F7157C0DCD7E83',\n",
       "  'Title': 'Meditations',\n",
       "  'Author': 'Marcus Aurelius',\n",
       "  'Year': None,\n",
       "  'Language': 'English',\n",
       "  'Pages': '16',\n",
       "  'ID': '359875',\n",
       "  'Size': '118 Kb (120991)',\n",
       "  'Extension': 'pdf'},\n",
       " {'Thumb': 'http://libgen.rs/covers/391000/5a7d04c411aea3cf8d360f0aead1187a-d.jpg',\n",
       "  'Download_link': 'http://libgen.rs/get?&md5=5A7D04C411AEA3CF8D360F0AEAD1187A',\n",
       "  'MD5': '5A7D04C411AEA3CF8D360F0AEAD1187A',\n",
       "  'Title': 'Meditations ',\n",
       "  'Author': 'Marcus Aurelius',\n",
       "  'Year': '2006',\n",
       "  'Language': 'English',\n",
       "  'Pages': None,\n",
       "  'ID': '391120',\n",
       "  'Size': '177 Kb (181674)',\n",
       "  'Extension': 'pdf'},\n",
       " {'Thumb': 'http://libgen.rs/covers/359000/1569AB2401F57CCA752831C05E216D7F-g.jpg',\n",
       "  'Download_link': 'http://libgen.rs/get?&md5=1569AB2401F57CCA752831C05E216D7F',\n",
       "  'MD5': '1569AB2401F57CCA752831C05E216D7F',\n",
       "  'Title': 'Selbstbetrachtungen',\n",
       "  'Author': 'Marcus Aurelius',\n",
       "  'Year': None,\n",
       "  'Language': 'English',\n",
       "  'Pages': None,\n",
       "  'ID': '359877',\n",
       "  'Size': '130 Kb (133411)',\n",
       "  'Extension': 'epub'},\n",
       " {'Thumb': 'http://libgen.rs/covers/359000/B3D6FCF13ECD4D4C6E26DB2E387620BC-g.jpg',\n",
       "  'Download_link': 'http://libgen.rs/get?&md5=B3D6FCF13ECD4D4C6E26DB2E387620BC',\n",
       "  'MD5': 'B3D6FCF13ECD4D4C6E26DB2E387620BC',\n",
       "  'Title': 'Thoughts',\n",
       "  'Author': 'Marcus Aurelius',\n",
       "  'Year': None,\n",
       "  'Language': 'English',\n",
       "  'Pages': None,\n",
       "  'ID': '359878',\n",
       "  'Size': '143 Kb (146879)',\n",
       "  'Extension': 'epub'},\n",
       " {'Thumb': 'http://libgen.rs/covers/441000/fe7799e605d50baa4ae93c3e1865c1e4-d.jpg',\n",
       "  'Download_link': 'http://libgen.rs/get?&md5=FE7799E605D50BAA4AE93C3E1865C1E4',\n",
       "  'MD5': 'FE7799E605D50BAA4AE93C3E1865C1E4',\n",
       "  'Title': \"The Meditations of Marcus Aurelius Antoninus: And a Selection from the Letters of Marcus and Fronto (Oxford World's Classics)\",\n",
       "  'Author': 'Marcus Aurelius Antonius',\n",
       "  'Year': '1998',\n",
       "  'Language': 'English',\n",
       "  'Pages': None,\n",
       "  'ID': '441319',\n",
       "  'Size': '288 Kb (295076)',\n",
       "  'Extension': 'pdf'},\n",
       " {'Thumb': 'http://libgen.rs/covers/442000/fc3c6f1ad7e6980a54b6422243482210-d.jpg',\n",
       "  'Download_link': 'http://libgen.rs/get?&md5=FC3C6F1AD7E6980A54B6422243482210',\n",
       "  'MD5': 'FC3C6F1AD7E6980A54B6422243482210',\n",
       "  'Title': 'The Meditations of Marcus Aurelius',\n",
       "  'Author': 'Emperor of Rome Marcus Aurelius',\n",
       "  'Year': '1997',\n",
       "  'Language': 'English',\n",
       "  'Pages': '248',\n",
       "  'ID': '442750',\n",
       "  'Size': '1 Mb (1075257)',\n",
       "  'Extension': 'pdf'},\n",
       " {'Thumb': 'http://libgen.rs/covers/776000/d92d9c44d9e5df9b9c414a70f46ecfae-d.jpg',\n",
       "  'Download_link': 'http://libgen.rs/get?&md5=D92D9C44D9E5DF9B9C414A70F46ECFAE',\n",
       "  'MD5': 'D92D9C44D9E5DF9B9C414A70F46ECFAE',\n",
       "  'Title': 'Meditations  ',\n",
       "  'Author': 'Marcus Aurelius (Emperor of Rome)',\n",
       "  'Year': '2006',\n",
       "  'Language': 'English',\n",
       "  'Pages': '302',\n",
       "  'ID': '776460',\n",
       "  'Size': '15 Mb (15674996)',\n",
       "  'Extension': 'pdf'},\n",
       " {'Thumb': 'http://libgen.rs/covers/760000/9a995243cf72df401abbc5bb538c2dc5-g.jpg',\n",
       "  'Download_link': 'http://libgen.rs/get?&md5=9A995243CF72DF401ABBC5BB538C2DC5',\n",
       "  'MD5': '9A995243CF72DF401ABBC5BB538C2DC5',\n",
       "  'Title': 'Marcus Aurelius and His Times. The Transition from Paganism to Christianity  ',\n",
       "  'Author': 'Marcus Aurelius',\n",
       "  'Year': '1945',\n",
       "  'Language': 'English',\n",
       "  'Pages': '310',\n",
       "  'ID': '760935',\n",
       "  'Size': '3 Mb (3376122)',\n",
       "  'Extension': 'pdf'},\n",
       " {'Thumb': 'http://libgen.rs/covers/1352000/13984dd2b2ecf240df27c48f9af8baa6-d.jpg',\n",
       "  'Download_link': 'http://libgen.rs/get?&md5=13984DD2B2ECF240DF27C48F9AF8BAA6',\n",
       "  'MD5': '13984DD2B2ECF240DF27C48F9AF8BAA6',\n",
       "  'Title': 'The Meditations',\n",
       "  'Author': 'Marcus Aurelius',\n",
       "  'Year': '2003',\n",
       "  'Language': 'English',\n",
       "  'Pages': '256',\n",
       "  'ID': '1352390',\n",
       "  'Size': '331 Kb (339185)',\n",
       "  'Extension': 'mobi'},\n",
       " {'Thumb': 'http://libgen.rs/covers/1624000/20fc31a570f8fc9998417f8881ac5e80-d.jpg',\n",
       "  'Download_link': 'http://libgen.rs/get?&md5=20FC31A570F8FC9998417F8881AC5E80',\n",
       "  'MD5': '20FC31A570F8FC9998417F8881AC5E80',\n",
       "  'Title': 'The Emperor’s Handbook [Meditations]',\n",
       "  'Author': 'Marcus Aurelius',\n",
       "  'Year': '2002',\n",
       "  'Language': 'English',\n",
       "  'Pages': None,\n",
       "  'ID': '1624377',\n",
       "  'Size': '19 Mb (19509460)',\n",
       "  'Extension': 'pdf'},\n",
       " {'Thumb': 'http://libgen.rs/covers/2070000/6c18f1bb109e2ed35f1d52a3245b5b97-g.jpg',\n",
       "  'Download_link': 'http://libgen.rs/get?&md5=6C18F1BB109E2ED35F1D52A3245B5B97',\n",
       "  'MD5': '6C18F1BB109E2ED35F1D52A3245B5B97',\n",
       "  'Title': 'Stoic Six Pack: Meditations of Marcus Aurelius, Golden Sayings, Fragments and Discourses of Epictetus, Letters From A Stoic and The Enchiridion',\n",
       "  'Author': 'Aurelius, Marcus',\n",
       "  'Year': '2014',\n",
       "  'Language': 'English',\n",
       "  'Pages': None,\n",
       "  'ID': '2070714',\n",
       "  'Size': '2 Mb (2254187)',\n",
       "  'Extension': 'mobi'},\n",
       " {'Thumb': 'http://libgen.rs/covers/2237000/332492e7757d3429a9eff9e30b7852ff-g.jpg',\n",
       "  'Download_link': 'http://libgen.rs/get?&md5=332492E7757D3429A9EFF9E30B7852FF',\n",
       "  'MD5': '332492E7757D3429A9EFF9E30B7852FF',\n",
       "  'Title': 'Meditations / Enchiridion',\n",
       "  'Author': 'Marcus Aurelius',\n",
       "  'Year': '1956',\n",
       "  'Language': 'English',\n",
       "  'Pages': None,\n",
       "  'ID': '2237554',\n",
       "  'Size': '23 Mb (23985619)',\n",
       "  'Extension': 'pdf'},\n",
       " {'Thumb': 'http://libgen.rs/covers/2400000/7d5be146a8f3dd053b075eb115a201a1-d.jpg',\n",
       "  'Download_link': 'http://libgen.rs/get?&md5=7D5BE146A8F3DD053B075EB115A201A1',\n",
       "  'MD5': '7D5BE146A8F3DD053B075EB115A201A1',\n",
       "  'Title': 'Meditations of Marcus Aurelius',\n",
       "  'Author': 'Marcus Aurelius',\n",
       "  'Year': '1992',\n",
       "  'Language': 'English',\n",
       "  'Pages': '280',\n",
       "  'ID': '2400364',\n",
       "  'Size': '672 Kb (688566)',\n",
       "  'Extension': 'mobi'},\n",
       " {'Thumb': 'http://libgen.rs/covers/2416000/ba050125c4af5bc9fff1db39c44161a9-g.jpg',\n",
       "  'Download_link': 'http://libgen.rs/get?&md5=BA050125C4AF5BC9FFF1DB39C44161A9',\n",
       "  'MD5': 'BA050125C4AF5BC9FFF1DB39C44161A9',\n",
       "  'Title': 'Marcus Aurelius: A Guide for the Perplexed',\n",
       "  'Author': 'Emperor of Rome Marcus Aurelius',\n",
       "  'Year': '2011',\n",
       "  'Language': 'English',\n",
       "  'Pages': '208',\n",
       "  'ID': '2416003',\n",
       "  'Size': '523 Kb (535972)',\n",
       "  'Extension': 'epub'}]"
      ]
     },
     "execution_count": 61,
     "metadata": {},
     "output_type": "execute_result"
    }
   ],
   "source": [
    "# Filtro de duplicados en titulo, extension y lenguaje\n",
    "# fuzzy string matching using Levenshtein distance (threshold = 80)\n",
    "\n",
    "unique_books = {}\n",
    "\n",
    "for book in books_filtered:\n",
    "    key = (book['Title'], book['Language'], book['Extension'])\n",
    "    most_similar_key = None\n",
    "    highest_similarity = 0\n",
    "\n",
    "    # Find the most similar existing key\n",
    "    for existing_key in unique_books:\n",
    "        existing_title, existing_language, existing_extension = existing_key\n",
    "        similarity_score = fuzz.token_set_ratio(existing_title, key[0])\n",
    "\n",
    "        if similarity_score > highest_similarity:\n",
    "            highest_similarity = similarity_score\n",
    "            most_similar_key = existing_key\n",
    "\n",
    "    if most_similar_key is not None:\n",
    "        existing_book = unique_books[most_similar_key]\n",
    "\n",
    "        # Compare titles if extension and language match\n",
    "        if existing_book['Extension'] == key[2] and existing_book['Language'] == key[1]:\n",
    "            if highest_similarity >= 80:\n",
    "                # Keep the existing book (higher similarity) and discard the current book\n",
    "                continue\n",
    "\n",
    "    unique_books[key] = book\n",
    "\n",
    "result = list(unique_books.values())\n",
    "len(result)\n",
    "result"
   ]
  },
  {
   "cell_type": "code",
   "execution_count": null,
   "metadata": {},
   "outputs": [],
   "source": []
  },
  {
   "cell_type": "code",
   "execution_count": null,
   "metadata": {},
   "outputs": [],
   "source": []
  },
  {
   "cell_type": "code",
   "execution_count": null,
   "metadata": {},
   "outputs": [],
   "source": []
  },
  {
   "cell_type": "code",
   "execution_count": null,
   "metadata": {},
   "outputs": [],
   "source": []
  },
  {
   "cell_type": "code",
   "execution_count": 13,
   "metadata": {},
   "outputs": [
    {
     "data": {
      "text/plain": [
       "['https://cloudflare-ipfs.com/ipfs/bafykbzacecda3pjf527oggxravhumsy7rrzteszg6j2lximxuipvdkvu5fcbs?filename=Marcus%20Aurelius%20-%20Meditations.epub',\n",
       " 'https://cloudflare-ipfs.com/ipfs/bafk2bzacedefgkn47ojdljq7aj7ues2wdp5fxzxyma6ivxlauaahs537ls6uc?filename=Marcus%20Aurelius%20-%20Meditations.pdf',\n",
       " 'https://cloudflare-ipfs.com/ipfs/bafykbzacecprhft75mlq2madmlp5kksuq2ko4dttdnqxh2zc2ipat3vumm6jq?filename=Marcus%20Aurelius%20-%20Meditations%20.pdf',\n",
       " 'https://cloudflare-ipfs.com/ipfs/bafk2bzaceamg6mqbnh5cll7rqikmqyadphe6v3v5nojh73qpi7qzqsicu2rxe?filename=Marcus%20Aurelius%20-%20Selbstbetrachtungen.epub',\n",
       " 'https://cloudflare-ipfs.com/ipfs/bafk2bzacedx6aw3izvscviddbll57izbkmravsj3wq3jxi4ttmryozol5n4xy?filename=Marcus%20Aurelius%20-%20Thoughts.epub',\n",
       " 'https://cloudflare-ipfs.com/ipfs/bafk2bzacebilaedeod4iasj6x74o7noz227xygb4z2i5fvb2hw7yiy2eba37u?filename=%28Penguin%20Classics%29%20Marcus%20Aurelius%2C%20Martin%20Hammond%2C%20Diskin%20Clay%20-%20Meditations%20-Penguin%20Classics%20%282006%29.pdf',\n",
       " 'https://cloudflare-ipfs.com/ipfs/bafykbzacebqptuczvxvwqxywemp4mnuqx43azfv5x7qec5yyt2xumhtvob4dw?filename=Marcus%20Aurelius%20Antonius%20-%20The%20Meditations%20of%20Marcus%20Aurelius%20Antoninus_%20And%20a%20Selection%20from%20the%20Letters%20of%20Marcus%20and%20Fronto%20%28Oxford%20World%27s%20Classics%29%20%281998%29.pdf',\n",
       " 'https://cloudflare-ipfs.com/ipfs/bafykbzaceazuxgljqkukhjdhsxfl5qv6yc27wg4qncxod73fa7v5tlmyuyrzy?filename=Emperor%20of%20Rome%20Marcus%20Aurelius%20-%20The%20Meditations%20of%20Marcus%20Aurelius%20%281997%29.pdf',\n",
       " 'https://cloudflare-ipfs.com/ipfs/bafykbzaceb3drbtcozrii2nz3ddbwlo73lo5jf4pdite5enam2bdriss3unx4?filename=Marcus%20Aurelius%20%28Emperor%20of%20Rome%29%2C%20Martin%20Hammond%2C%20Diskin%20Clay%20-%20Meditations%20%20-Penguin%20Books%20%282006%29.pdf',\n",
       " 'https://cloudflare-ipfs.com/ipfs/bafykbzacecsrxmuv5gwot3u7ssa4qtpzksxdubgpmeecgck4jxakhlszz5p4i?filename=Marcus%20Aurelius_%20Lucian_%20Justin%20Martyr_%20Walter%20Pater%20-%20Marcus%20Aurelius%20and%20His%20Times.%20The%20Transition%20from%20Paganism%20to%20Christianity%20%20-Pub.%20for%20the%20Classics%20Club%20by%20W.%20J.%20Black%20%281945%29.pdf',\n",
       " 'https://cloudflare-ipfs.com/ipfs/bafykbzaceat7oxrzpa46o6gn7xznsrjpakenk7tq26s476qoiejzxequymdti?filename=Marcus%20Aurelius%20%28Emperor%20of%20Rome%29%2C%20Martin%20Hammond%2C%20Diskin%20Clay%20-%20Meditations%20%20-Penguin%20Books%20%282006%29.pdf',\n",
       " 'https://cloudflare-ipfs.com/ipfs/bafykbzacedhlwf4jf2uz6fafiyoierr4qf7kgpexjaz7wwvhnilqnagk3gmg2?filename=Marcus%20Aurelius%20-%20The%20Meditations-Hackett%20Pub%20Co%20Inc%20%281983%29.epub',\n",
       " 'https://cloudflare-ipfs.com/ipfs/bafykbzaceabuysjzxf3jb3etsfjeihufm6g3hnfwf34hvmmswoey5x6wamff4?filename=Marcus%20Aurelius%2C%20Gregory%20Hays%20-%20The%20Meditations-Modern%20Library%20%282003%29.mobi',\n",
       " 'https://cloudflare-ipfs.com/ipfs/bafk2bzaceawhusuct3skqxboi54erlprrfvxlbydnwv4nltnj6tyuzpvx7h2g?filename=Marcus%20Aurelius%2C%20Gregory%20Hays%20-%20Meditations_%20A%20New%20Translation-Modern%20Library%20%282003%29.epub',\n",
       " 'https://cloudflare-ipfs.com/ipfs/bafykbzacebfn6khzc77g2tayb5ostnzqor4aodkm3e3uzqsxx5rd5gsupqlty?filename=Marcus%20Aurelius_%20David%20Hicks%2C%20C.%20Scot%20Hicks%20%28trans.%29%20-%20The%20Emperor%E2%80%99s%20Handbook%20%5BMeditations%5D-Scribner%20%282002%29.pdf',\n",
       " 'https://cloudflare-ipfs.com/ipfs/bafykbzaceamgtnc45xanqignecmfbmyr772pr6iu5prhr76jmcia4ilq5lgz4?filename=Aurelius%2C%20Marcus_%20Epictetus_%20Seneca%20-%20Stoic%20Six%20Pack_%20Meditations%20of%20Marcus%20Aurelius%2C%20Golden%20Sayings%2C%20Fragments%20and%20Discourses%20of%20Epictetus%2C%20Letters%20From%20A%20Stoic%20and%20The%20Enchiridion%20%282014%29.mobi',\n",
       " 'https://cloudflare-ipfs.com/ipfs/bafykbzacecujn7nyok5n47m5y4nsaw3axt6sncpu576urk5mph7zg2bf2utfm?filename=Marcus%20Aurelius%2C%20Sam%20Torode%20-%20The%20Meditations_%20An%20Emperor%E2%80%99s%20Guide%20to%20Mastery-CreateSpace%20Independent%20Publishing%20Platform%20%282017%29.epub',\n",
       " 'https://cloudflare-ipfs.com/ipfs/bafykbzacedosx2mbw4pqvfk2pwvlrppmhht7ljz3dpylqa57qgedpnumebgii?filename=Marcus%20Aurelius%2C%20Epictetus%20-%20Meditations%20_%20Enchiridion-Henry%20Regnery%20Company%20%281956%29.pdf',\n",
       " 'https://cloudflare-ipfs.com/ipfs/bafykbzacedrxhq5hfzdynwd7jfxfhrlzckk4dud6k4hnzbswjhlmbstzkruzu?filename=Marcus%20Aurelius_%20Robin%20Hard_%20Christopher%20Gill%20-%20Meditations_%20With%20Selected%20Correspondence%20%28Oxford%20World%E2%80%99s%20Classics%29-Oxford%20University%20Press%20%282011%29.epub',\n",
       " 'https://cloudflare-ipfs.com/ipfs/bafykbzaceadbdowcnueciw6trroiipsyrhft65uumtsohew5fqzlwgs72ivf2?filename=Marcus%20Aurelius%2C%20A.S.L%20Farquharson%20-%20Meditations%20of%20Marcus%20Aurelius-Everyman%E2%80%99s%20Library%20%281992%29.mobi',\n",
       " 'https://cloudflare-ipfs.com/ipfs/bafykbzacebqj4qd2bjsk77hettpjlxjpldiunwm3yadz64c2srsb2q2gmddtk?filename=%28Guides%20for%20the%20perplexed%29%20Emperor%20of%20Rome%20Marcus%20Aurelius_%20Stephens%2C%20William%20O%20-%20Marcus%20Aurelius_%20A%20Guide%20for%20the%20Perplexed-Continuum%20UK%20%282011%29.epub']"
      ]
     },
     "execution_count": 13,
     "metadata": {},
     "output_type": "execute_result"
    }
   ],
   "source": [
    "download_urls = [libgen.resolve_download_link(md5=search_results_filtered[i]['MD5']) for i in range(len(search_results_filtered))]\n",
    "download_urls"
   ]
  }
 ],
 "metadata": {
  "kernelspec": {
   "display_name": "ai-book-downloader-UvFuf6cO",
   "language": "python",
   "name": "python3"
  },
  "language_info": {
   "codemirror_mode": {
    "name": "ipython",
    "version": 3
   },
   "file_extension": ".py",
   "mimetype": "text/x-python",
   "name": "python",
   "nbconvert_exporter": "python",
   "pygments_lexer": "ipython3",
   "version": "3.11.4"
  },
  "orig_nbformat": 4
 },
 "nbformat": 4,
 "nbformat_minor": 2
}
